{
 "cells": [
  {
   "cell_type": "markdown",
   "metadata": {},
   "source": [
    "# Linear Discriminant Analysis as a dimensionality reduction technique"
   ]
  },
  {
   "cell_type": "code",
   "execution_count": 1,
   "metadata": {},
   "outputs": [],
   "source": [
    "import numpy as np\n",
    "import pandas as pd\n",
    "from scipy.io import loadmat\n",
    "import matplotlib.pyplot as plt \n",
    "import seaborn as sns\n",
    "from sklearn.preprocessing import normalize\n",
    "from sklearn.decomposition import PCA\n",
    "from sklearn.discriminant_analysis import LinearDiscriminantAnalysis\n",
    "from sklearn.model_selection import train_test_split\n",
    "from sklearn.linear_model import LogisticRegression\n",
    "from sklearn import datasets\n",
    "from mpl_toolkits.mplot3d import Axes3D\n",
    "import scipy.stats as stats\n",
    "%matplotlib notebook\n",
    "np.set_printoptions(precision=3, suppress=True)"
   ]
  },
  {
   "cell_type": "markdown",
   "metadata": {},
   "source": [
    "## Activity 1"
   ]
  },
  {
   "cell_type": "code",
   "execution_count": 2,
   "metadata": {},
   "outputs": [
    {
     "data": {
      "application/javascript": [
       "/* Put everything inside the global mpl namespace */\n",
       "window.mpl = {};\n",
       "\n",
       "\n",
       "mpl.get_websocket_type = function() {\n",
       "    if (typeof(WebSocket) !== 'undefined') {\n",
       "        return WebSocket;\n",
       "    } else if (typeof(MozWebSocket) !== 'undefined') {\n",
       "        return MozWebSocket;\n",
       "    } else {\n",
       "        alert('Your browser does not have WebSocket support. ' +\n",
       "              'Please try Chrome, Safari or Firefox ≥ 6. ' +\n",
       "              'Firefox 4 and 5 are also supported but you ' +\n",
       "              'have to enable WebSockets in about:config.');\n",
       "    };\n",
       "}\n",
       "\n",
       "mpl.figure = function(figure_id, websocket, ondownload, parent_element) {\n",
       "    this.id = figure_id;\n",
       "\n",
       "    this.ws = websocket;\n",
       "\n",
       "    this.supports_binary = (this.ws.binaryType != undefined);\n",
       "\n",
       "    if (!this.supports_binary) {\n",
       "        var warnings = document.getElementById(\"mpl-warnings\");\n",
       "        if (warnings) {\n",
       "            warnings.style.display = 'block';\n",
       "            warnings.textContent = (\n",
       "                \"This browser does not support binary websocket messages. \" +\n",
       "                    \"Performance may be slow.\");\n",
       "        }\n",
       "    }\n",
       "\n",
       "    this.imageObj = new Image();\n",
       "\n",
       "    this.context = undefined;\n",
       "    this.message = undefined;\n",
       "    this.canvas = undefined;\n",
       "    this.rubberband_canvas = undefined;\n",
       "    this.rubberband_context = undefined;\n",
       "    this.format_dropdown = undefined;\n",
       "\n",
       "    this.image_mode = 'full';\n",
       "\n",
       "    this.root = $('<div/>');\n",
       "    this._root_extra_style(this.root)\n",
       "    this.root.attr('style', 'display: inline-block');\n",
       "\n",
       "    $(parent_element).append(this.root);\n",
       "\n",
       "    this._init_header(this);\n",
       "    this._init_canvas(this);\n",
       "    this._init_toolbar(this);\n",
       "\n",
       "    var fig = this;\n",
       "\n",
       "    this.waiting = false;\n",
       "\n",
       "    this.ws.onopen =  function () {\n",
       "            fig.send_message(\"supports_binary\", {value: fig.supports_binary});\n",
       "            fig.send_message(\"send_image_mode\", {});\n",
       "            if (mpl.ratio != 1) {\n",
       "                fig.send_message(\"set_dpi_ratio\", {'dpi_ratio': mpl.ratio});\n",
       "            }\n",
       "            fig.send_message(\"refresh\", {});\n",
       "        }\n",
       "\n",
       "    this.imageObj.onload = function() {\n",
       "            if (fig.image_mode == 'full') {\n",
       "                // Full images could contain transparency (where diff images\n",
       "                // almost always do), so we need to clear the canvas so that\n",
       "                // there is no ghosting.\n",
       "                fig.context.clearRect(0, 0, fig.canvas.width, fig.canvas.height);\n",
       "            }\n",
       "            fig.context.drawImage(fig.imageObj, 0, 0);\n",
       "        };\n",
       "\n",
       "    this.imageObj.onunload = function() {\n",
       "        fig.ws.close();\n",
       "    }\n",
       "\n",
       "    this.ws.onmessage = this._make_on_message_function(this);\n",
       "\n",
       "    this.ondownload = ondownload;\n",
       "}\n",
       "\n",
       "mpl.figure.prototype._init_header = function() {\n",
       "    var titlebar = $(\n",
       "        '<div class=\"ui-dialog-titlebar ui-widget-header ui-corner-all ' +\n",
       "        'ui-helper-clearfix\"/>');\n",
       "    var titletext = $(\n",
       "        '<div class=\"ui-dialog-title\" style=\"width: 100%; ' +\n",
       "        'text-align: center; padding: 3px;\"/>');\n",
       "    titlebar.append(titletext)\n",
       "    this.root.append(titlebar);\n",
       "    this.header = titletext[0];\n",
       "}\n",
       "\n",
       "\n",
       "\n",
       "mpl.figure.prototype._canvas_extra_style = function(canvas_div) {\n",
       "\n",
       "}\n",
       "\n",
       "\n",
       "mpl.figure.prototype._root_extra_style = function(canvas_div) {\n",
       "\n",
       "}\n",
       "\n",
       "mpl.figure.prototype._init_canvas = function() {\n",
       "    var fig = this;\n",
       "\n",
       "    var canvas_div = $('<div/>');\n",
       "\n",
       "    canvas_div.attr('style', 'position: relative; clear: both; outline: 0');\n",
       "\n",
       "    function canvas_keyboard_event(event) {\n",
       "        return fig.key_event(event, event['data']);\n",
       "    }\n",
       "\n",
       "    canvas_div.keydown('key_press', canvas_keyboard_event);\n",
       "    canvas_div.keyup('key_release', canvas_keyboard_event);\n",
       "    this.canvas_div = canvas_div\n",
       "    this._canvas_extra_style(canvas_div)\n",
       "    this.root.append(canvas_div);\n",
       "\n",
       "    var canvas = $('<canvas/>');\n",
       "    canvas.addClass('mpl-canvas');\n",
       "    canvas.attr('style', \"left: 0; top: 0; z-index: 0; outline: 0\")\n",
       "\n",
       "    this.canvas = canvas[0];\n",
       "    this.context = canvas[0].getContext(\"2d\");\n",
       "\n",
       "    var backingStore = this.context.backingStorePixelRatio ||\n",
       "\tthis.context.webkitBackingStorePixelRatio ||\n",
       "\tthis.context.mozBackingStorePixelRatio ||\n",
       "\tthis.context.msBackingStorePixelRatio ||\n",
       "\tthis.context.oBackingStorePixelRatio ||\n",
       "\tthis.context.backingStorePixelRatio || 1;\n",
       "\n",
       "    mpl.ratio = (window.devicePixelRatio || 1) / backingStore;\n",
       "\n",
       "    var rubberband = $('<canvas/>');\n",
       "    rubberband.attr('style', \"position: absolute; left: 0; top: 0; z-index: 1;\")\n",
       "\n",
       "    var pass_mouse_events = true;\n",
       "\n",
       "    canvas_div.resizable({\n",
       "        start: function(event, ui) {\n",
       "            pass_mouse_events = false;\n",
       "        },\n",
       "        resize: function(event, ui) {\n",
       "            fig.request_resize(ui.size.width, ui.size.height);\n",
       "        },\n",
       "        stop: function(event, ui) {\n",
       "            pass_mouse_events = true;\n",
       "            fig.request_resize(ui.size.width, ui.size.height);\n",
       "        },\n",
       "    });\n",
       "\n",
       "    function mouse_event_fn(event) {\n",
       "        if (pass_mouse_events)\n",
       "            return fig.mouse_event(event, event['data']);\n",
       "    }\n",
       "\n",
       "    rubberband.mousedown('button_press', mouse_event_fn);\n",
       "    rubberband.mouseup('button_release', mouse_event_fn);\n",
       "    // Throttle sequential mouse events to 1 every 20ms.\n",
       "    rubberband.mousemove('motion_notify', mouse_event_fn);\n",
       "\n",
       "    rubberband.mouseenter('figure_enter', mouse_event_fn);\n",
       "    rubberband.mouseleave('figure_leave', mouse_event_fn);\n",
       "\n",
       "    canvas_div.on(\"wheel\", function (event) {\n",
       "        event = event.originalEvent;\n",
       "        event['data'] = 'scroll'\n",
       "        if (event.deltaY < 0) {\n",
       "            event.step = 1;\n",
       "        } else {\n",
       "            event.step = -1;\n",
       "        }\n",
       "        mouse_event_fn(event);\n",
       "    });\n",
       "\n",
       "    canvas_div.append(canvas);\n",
       "    canvas_div.append(rubberband);\n",
       "\n",
       "    this.rubberband = rubberband;\n",
       "    this.rubberband_canvas = rubberband[0];\n",
       "    this.rubberband_context = rubberband[0].getContext(\"2d\");\n",
       "    this.rubberband_context.strokeStyle = \"#000000\";\n",
       "\n",
       "    this._resize_canvas = function(width, height) {\n",
       "        // Keep the size of the canvas, canvas container, and rubber band\n",
       "        // canvas in synch.\n",
       "        canvas_div.css('width', width)\n",
       "        canvas_div.css('height', height)\n",
       "\n",
       "        canvas.attr('width', width * mpl.ratio);\n",
       "        canvas.attr('height', height * mpl.ratio);\n",
       "        canvas.attr('style', 'width: ' + width + 'px; height: ' + height + 'px;');\n",
       "\n",
       "        rubberband.attr('width', width);\n",
       "        rubberband.attr('height', height);\n",
       "    }\n",
       "\n",
       "    // Set the figure to an initial 600x600px, this will subsequently be updated\n",
       "    // upon first draw.\n",
       "    this._resize_canvas(600, 600);\n",
       "\n",
       "    // Disable right mouse context menu.\n",
       "    $(this.rubberband_canvas).bind(\"contextmenu\",function(e){\n",
       "        return false;\n",
       "    });\n",
       "\n",
       "    function set_focus () {\n",
       "        canvas.focus();\n",
       "        canvas_div.focus();\n",
       "    }\n",
       "\n",
       "    window.setTimeout(set_focus, 100);\n",
       "}\n",
       "\n",
       "mpl.figure.prototype._init_toolbar = function() {\n",
       "    var fig = this;\n",
       "\n",
       "    var nav_element = $('<div/>');\n",
       "    nav_element.attr('style', 'width: 100%');\n",
       "    this.root.append(nav_element);\n",
       "\n",
       "    // Define a callback function for later on.\n",
       "    function toolbar_event(event) {\n",
       "        return fig.toolbar_button_onclick(event['data']);\n",
       "    }\n",
       "    function toolbar_mouse_event(event) {\n",
       "        return fig.toolbar_button_onmouseover(event['data']);\n",
       "    }\n",
       "\n",
       "    for(var toolbar_ind in mpl.toolbar_items) {\n",
       "        var name = mpl.toolbar_items[toolbar_ind][0];\n",
       "        var tooltip = mpl.toolbar_items[toolbar_ind][1];\n",
       "        var image = mpl.toolbar_items[toolbar_ind][2];\n",
       "        var method_name = mpl.toolbar_items[toolbar_ind][3];\n",
       "\n",
       "        if (!name) {\n",
       "            // put a spacer in here.\n",
       "            continue;\n",
       "        }\n",
       "        var button = $('<button/>');\n",
       "        button.addClass('ui-button ui-widget ui-state-default ui-corner-all ' +\n",
       "                        'ui-button-icon-only');\n",
       "        button.attr('role', 'button');\n",
       "        button.attr('aria-disabled', 'false');\n",
       "        button.click(method_name, toolbar_event);\n",
       "        button.mouseover(tooltip, toolbar_mouse_event);\n",
       "\n",
       "        var icon_img = $('<span/>');\n",
       "        icon_img.addClass('ui-button-icon-primary ui-icon');\n",
       "        icon_img.addClass(image);\n",
       "        icon_img.addClass('ui-corner-all');\n",
       "\n",
       "        var tooltip_span = $('<span/>');\n",
       "        tooltip_span.addClass('ui-button-text');\n",
       "        tooltip_span.html(tooltip);\n",
       "\n",
       "        button.append(icon_img);\n",
       "        button.append(tooltip_span);\n",
       "\n",
       "        nav_element.append(button);\n",
       "    }\n",
       "\n",
       "    var fmt_picker_span = $('<span/>');\n",
       "\n",
       "    var fmt_picker = $('<select/>');\n",
       "    fmt_picker.addClass('mpl-toolbar-option ui-widget ui-widget-content');\n",
       "    fmt_picker_span.append(fmt_picker);\n",
       "    nav_element.append(fmt_picker_span);\n",
       "    this.format_dropdown = fmt_picker[0];\n",
       "\n",
       "    for (var ind in mpl.extensions) {\n",
       "        var fmt = mpl.extensions[ind];\n",
       "        var option = $(\n",
       "            '<option/>', {selected: fmt === mpl.default_extension}).html(fmt);\n",
       "        fmt_picker.append(option);\n",
       "    }\n",
       "\n",
       "    // Add hover states to the ui-buttons\n",
       "    $( \".ui-button\" ).hover(\n",
       "        function() { $(this).addClass(\"ui-state-hover\");},\n",
       "        function() { $(this).removeClass(\"ui-state-hover\");}\n",
       "    );\n",
       "\n",
       "    var status_bar = $('<span class=\"mpl-message\"/>');\n",
       "    nav_element.append(status_bar);\n",
       "    this.message = status_bar[0];\n",
       "}\n",
       "\n",
       "mpl.figure.prototype.request_resize = function(x_pixels, y_pixels) {\n",
       "    // Request matplotlib to resize the figure. Matplotlib will then trigger a resize in the client,\n",
       "    // which will in turn request a refresh of the image.\n",
       "    this.send_message('resize', {'width': x_pixels, 'height': y_pixels});\n",
       "}\n",
       "\n",
       "mpl.figure.prototype.send_message = function(type, properties) {\n",
       "    properties['type'] = type;\n",
       "    properties['figure_id'] = this.id;\n",
       "    this.ws.send(JSON.stringify(properties));\n",
       "}\n",
       "\n",
       "mpl.figure.prototype.send_draw_message = function() {\n",
       "    if (!this.waiting) {\n",
       "        this.waiting = true;\n",
       "        this.ws.send(JSON.stringify({type: \"draw\", figure_id: this.id}));\n",
       "    }\n",
       "}\n",
       "\n",
       "\n",
       "mpl.figure.prototype.handle_save = function(fig, msg) {\n",
       "    var format_dropdown = fig.format_dropdown;\n",
       "    var format = format_dropdown.options[format_dropdown.selectedIndex].value;\n",
       "    fig.ondownload(fig, format);\n",
       "}\n",
       "\n",
       "\n",
       "mpl.figure.prototype.handle_resize = function(fig, msg) {\n",
       "    var size = msg['size'];\n",
       "    if (size[0] != fig.canvas.width || size[1] != fig.canvas.height) {\n",
       "        fig._resize_canvas(size[0], size[1]);\n",
       "        fig.send_message(\"refresh\", {});\n",
       "    };\n",
       "}\n",
       "\n",
       "mpl.figure.prototype.handle_rubberband = function(fig, msg) {\n",
       "    var x0 = msg['x0'] / mpl.ratio;\n",
       "    var y0 = (fig.canvas.height - msg['y0']) / mpl.ratio;\n",
       "    var x1 = msg['x1'] / mpl.ratio;\n",
       "    var y1 = (fig.canvas.height - msg['y1']) / mpl.ratio;\n",
       "    x0 = Math.floor(x0) + 0.5;\n",
       "    y0 = Math.floor(y0) + 0.5;\n",
       "    x1 = Math.floor(x1) + 0.5;\n",
       "    y1 = Math.floor(y1) + 0.5;\n",
       "    var min_x = Math.min(x0, x1);\n",
       "    var min_y = Math.min(y0, y1);\n",
       "    var width = Math.abs(x1 - x0);\n",
       "    var height = Math.abs(y1 - y0);\n",
       "\n",
       "    fig.rubberband_context.clearRect(\n",
       "        0, 0, fig.canvas.width / mpl.ratio, fig.canvas.height / mpl.ratio);\n",
       "\n",
       "    fig.rubberband_context.strokeRect(min_x, min_y, width, height);\n",
       "}\n",
       "\n",
       "mpl.figure.prototype.handle_figure_label = function(fig, msg) {\n",
       "    // Updates the figure title.\n",
       "    fig.header.textContent = msg['label'];\n",
       "}\n",
       "\n",
       "mpl.figure.prototype.handle_cursor = function(fig, msg) {\n",
       "    var cursor = msg['cursor'];\n",
       "    switch(cursor)\n",
       "    {\n",
       "    case 0:\n",
       "        cursor = 'pointer';\n",
       "        break;\n",
       "    case 1:\n",
       "        cursor = 'default';\n",
       "        break;\n",
       "    case 2:\n",
       "        cursor = 'crosshair';\n",
       "        break;\n",
       "    case 3:\n",
       "        cursor = 'move';\n",
       "        break;\n",
       "    }\n",
       "    fig.rubberband_canvas.style.cursor = cursor;\n",
       "}\n",
       "\n",
       "mpl.figure.prototype.handle_message = function(fig, msg) {\n",
       "    fig.message.textContent = msg['message'];\n",
       "}\n",
       "\n",
       "mpl.figure.prototype.handle_draw = function(fig, msg) {\n",
       "    // Request the server to send over a new figure.\n",
       "    fig.send_draw_message();\n",
       "}\n",
       "\n",
       "mpl.figure.prototype.handle_image_mode = function(fig, msg) {\n",
       "    fig.image_mode = msg['mode'];\n",
       "}\n",
       "\n",
       "mpl.figure.prototype.updated_canvas_event = function() {\n",
       "    // Called whenever the canvas gets updated.\n",
       "    this.send_message(\"ack\", {});\n",
       "}\n",
       "\n",
       "// A function to construct a web socket function for onmessage handling.\n",
       "// Called in the figure constructor.\n",
       "mpl.figure.prototype._make_on_message_function = function(fig) {\n",
       "    return function socket_on_message(evt) {\n",
       "        if (evt.data instanceof Blob) {\n",
       "            /* FIXME: We get \"Resource interpreted as Image but\n",
       "             * transferred with MIME type text/plain:\" errors on\n",
       "             * Chrome.  But how to set the MIME type?  It doesn't seem\n",
       "             * to be part of the websocket stream */\n",
       "            evt.data.type = \"image/png\";\n",
       "\n",
       "            /* Free the memory for the previous frames */\n",
       "            if (fig.imageObj.src) {\n",
       "                (window.URL || window.webkitURL).revokeObjectURL(\n",
       "                    fig.imageObj.src);\n",
       "            }\n",
       "\n",
       "            fig.imageObj.src = (window.URL || window.webkitURL).createObjectURL(\n",
       "                evt.data);\n",
       "            fig.updated_canvas_event();\n",
       "            fig.waiting = false;\n",
       "            return;\n",
       "        }\n",
       "        else if (typeof evt.data === 'string' && evt.data.slice(0, 21) == \"data:image/png;base64\") {\n",
       "            fig.imageObj.src = evt.data;\n",
       "            fig.updated_canvas_event();\n",
       "            fig.waiting = false;\n",
       "            return;\n",
       "        }\n",
       "\n",
       "        var msg = JSON.parse(evt.data);\n",
       "        var msg_type = msg['type'];\n",
       "\n",
       "        // Call the  \"handle_{type}\" callback, which takes\n",
       "        // the figure and JSON message as its only arguments.\n",
       "        try {\n",
       "            var callback = fig[\"handle_\" + msg_type];\n",
       "        } catch (e) {\n",
       "            console.log(\"No handler for the '\" + msg_type + \"' message type: \", msg);\n",
       "            return;\n",
       "        }\n",
       "\n",
       "        if (callback) {\n",
       "            try {\n",
       "                // console.log(\"Handling '\" + msg_type + \"' message: \", msg);\n",
       "                callback(fig, msg);\n",
       "            } catch (e) {\n",
       "                console.log(\"Exception inside the 'handler_\" + msg_type + \"' callback:\", e, e.stack, msg);\n",
       "            }\n",
       "        }\n",
       "    };\n",
       "}\n",
       "\n",
       "// from http://stackoverflow.com/questions/1114465/getting-mouse-location-in-canvas\n",
       "mpl.findpos = function(e) {\n",
       "    //this section is from http://www.quirksmode.org/js/events_properties.html\n",
       "    var targ;\n",
       "    if (!e)\n",
       "        e = window.event;\n",
       "    if (e.target)\n",
       "        targ = e.target;\n",
       "    else if (e.srcElement)\n",
       "        targ = e.srcElement;\n",
       "    if (targ.nodeType == 3) // defeat Safari bug\n",
       "        targ = targ.parentNode;\n",
       "\n",
       "    // jQuery normalizes the pageX and pageY\n",
       "    // pageX,Y are the mouse positions relative to the document\n",
       "    // offset() returns the position of the element relative to the document\n",
       "    var x = e.pageX - $(targ).offset().left;\n",
       "    var y = e.pageY - $(targ).offset().top;\n",
       "\n",
       "    return {\"x\": x, \"y\": y};\n",
       "};\n",
       "\n",
       "/*\n",
       " * return a copy of an object with only non-object keys\n",
       " * we need this to avoid circular references\n",
       " * http://stackoverflow.com/a/24161582/3208463\n",
       " */\n",
       "function simpleKeys (original) {\n",
       "  return Object.keys(original).reduce(function (obj, key) {\n",
       "    if (typeof original[key] !== 'object')\n",
       "        obj[key] = original[key]\n",
       "    return obj;\n",
       "  }, {});\n",
       "}\n",
       "\n",
       "mpl.figure.prototype.mouse_event = function(event, name) {\n",
       "    var canvas_pos = mpl.findpos(event)\n",
       "\n",
       "    if (name === 'button_press')\n",
       "    {\n",
       "        this.canvas.focus();\n",
       "        this.canvas_div.focus();\n",
       "    }\n",
       "\n",
       "    var x = canvas_pos.x * mpl.ratio;\n",
       "    var y = canvas_pos.y * mpl.ratio;\n",
       "\n",
       "    this.send_message(name, {x: x, y: y, button: event.button,\n",
       "                             step: event.step,\n",
       "                             guiEvent: simpleKeys(event)});\n",
       "\n",
       "    /* This prevents the web browser from automatically changing to\n",
       "     * the text insertion cursor when the button is pressed.  We want\n",
       "     * to control all of the cursor setting manually through the\n",
       "     * 'cursor' event from matplotlib */\n",
       "    event.preventDefault();\n",
       "    return false;\n",
       "}\n",
       "\n",
       "mpl.figure.prototype._key_event_extra = function(event, name) {\n",
       "    // Handle any extra behaviour associated with a key event\n",
       "}\n",
       "\n",
       "mpl.figure.prototype.key_event = function(event, name) {\n",
       "\n",
       "    // Prevent repeat events\n",
       "    if (name == 'key_press')\n",
       "    {\n",
       "        if (event.which === this._key)\n",
       "            return;\n",
       "        else\n",
       "            this._key = event.which;\n",
       "    }\n",
       "    if (name == 'key_release')\n",
       "        this._key = null;\n",
       "\n",
       "    var value = '';\n",
       "    if (event.ctrlKey && event.which != 17)\n",
       "        value += \"ctrl+\";\n",
       "    if (event.altKey && event.which != 18)\n",
       "        value += \"alt+\";\n",
       "    if (event.shiftKey && event.which != 16)\n",
       "        value += \"shift+\";\n",
       "\n",
       "    value += 'k';\n",
       "    value += event.which.toString();\n",
       "\n",
       "    this._key_event_extra(event, name);\n",
       "\n",
       "    this.send_message(name, {key: value,\n",
       "                             guiEvent: simpleKeys(event)});\n",
       "    return false;\n",
       "}\n",
       "\n",
       "mpl.figure.prototype.toolbar_button_onclick = function(name) {\n",
       "    if (name == 'download') {\n",
       "        this.handle_save(this, null);\n",
       "    } else {\n",
       "        this.send_message(\"toolbar_button\", {name: name});\n",
       "    }\n",
       "};\n",
       "\n",
       "mpl.figure.prototype.toolbar_button_onmouseover = function(tooltip) {\n",
       "    this.message.textContent = tooltip;\n",
       "};\n",
       "mpl.toolbar_items = [[\"Home\", \"Reset original view\", \"fa fa-home icon-home\", \"home\"], [\"Back\", \"Back to previous view\", \"fa fa-arrow-left icon-arrow-left\", \"back\"], [\"Forward\", \"Forward to next view\", \"fa fa-arrow-right icon-arrow-right\", \"forward\"], [\"\", \"\", \"\", \"\"], [\"Pan\", \"Pan axes with left mouse, zoom with right\", \"fa fa-arrows icon-move\", \"pan\"], [\"Zoom\", \"Zoom to rectangle\", \"fa fa-square-o icon-check-empty\", \"zoom\"], [\"\", \"\", \"\", \"\"], [\"Download\", \"Download plot\", \"fa fa-floppy-o icon-save\", \"download\"]];\n",
       "\n",
       "mpl.extensions = [\"eps\", \"jpeg\", \"pdf\", \"png\", \"ps\", \"raw\", \"svg\", \"tif\"];\n",
       "\n",
       "mpl.default_extension = \"png\";var comm_websocket_adapter = function(comm) {\n",
       "    // Create a \"websocket\"-like object which calls the given IPython comm\n",
       "    // object with the appropriate methods. Currently this is a non binary\n",
       "    // socket, so there is still some room for performance tuning.\n",
       "    var ws = {};\n",
       "\n",
       "    ws.close = function() {\n",
       "        comm.close()\n",
       "    };\n",
       "    ws.send = function(m) {\n",
       "        //console.log('sending', m);\n",
       "        comm.send(m);\n",
       "    };\n",
       "    // Register the callback with on_msg.\n",
       "    comm.on_msg(function(msg) {\n",
       "        //console.log('receiving', msg['content']['data'], msg);\n",
       "        // Pass the mpl event to the overridden (by mpl) onmessage function.\n",
       "        ws.onmessage(msg['content']['data'])\n",
       "    });\n",
       "    return ws;\n",
       "}\n",
       "\n",
       "mpl.mpl_figure_comm = function(comm, msg) {\n",
       "    // This is the function which gets called when the mpl process\n",
       "    // starts-up an IPython Comm through the \"matplotlib\" channel.\n",
       "\n",
       "    var id = msg.content.data.id;\n",
       "    // Get hold of the div created by the display call when the Comm\n",
       "    // socket was opened in Python.\n",
       "    var element = $(\"#\" + id);\n",
       "    var ws_proxy = comm_websocket_adapter(comm)\n",
       "\n",
       "    function ondownload(figure, format) {\n",
       "        window.open(figure.imageObj.src);\n",
       "    }\n",
       "\n",
       "    var fig = new mpl.figure(id, ws_proxy,\n",
       "                           ondownload,\n",
       "                           element.get(0));\n",
       "\n",
       "    // Call onopen now - mpl needs it, as it is assuming we've passed it a real\n",
       "    // web socket which is closed, not our websocket->open comm proxy.\n",
       "    ws_proxy.onopen();\n",
       "\n",
       "    fig.parent_element = element.get(0);\n",
       "    fig.cell_info = mpl.find_output_cell(\"<div id='\" + id + \"'></div>\");\n",
       "    if (!fig.cell_info) {\n",
       "        console.error(\"Failed to find cell for figure\", id, fig);\n",
       "        return;\n",
       "    }\n",
       "\n",
       "    var output_index = fig.cell_info[2]\n",
       "    var cell = fig.cell_info[0];\n",
       "\n",
       "};\n",
       "\n",
       "mpl.figure.prototype.handle_close = function(fig, msg) {\n",
       "    var width = fig.canvas.width/mpl.ratio\n",
       "    fig.root.unbind('remove')\n",
       "\n",
       "    // Update the output cell to use the data from the current canvas.\n",
       "    fig.push_to_output();\n",
       "    var dataURL = fig.canvas.toDataURL();\n",
       "    // Re-enable the keyboard manager in IPython - without this line, in FF,\n",
       "    // the notebook keyboard shortcuts fail.\n",
       "    IPython.keyboard_manager.enable()\n",
       "    $(fig.parent_element).html('<img src=\"' + dataURL + '\" width=\"' + width + '\">');\n",
       "    fig.close_ws(fig, msg);\n",
       "}\n",
       "\n",
       "mpl.figure.prototype.close_ws = function(fig, msg){\n",
       "    fig.send_message('closing', msg);\n",
       "    // fig.ws.close()\n",
       "}\n",
       "\n",
       "mpl.figure.prototype.push_to_output = function(remove_interactive) {\n",
       "    // Turn the data on the canvas into data in the output cell.\n",
       "    var width = this.canvas.width/mpl.ratio\n",
       "    var dataURL = this.canvas.toDataURL();\n",
       "    this.cell_info[1]['text/html'] = '<img src=\"' + dataURL + '\" width=\"' + width + '\">';\n",
       "}\n",
       "\n",
       "mpl.figure.prototype.updated_canvas_event = function() {\n",
       "    // Tell IPython that the notebook contents must change.\n",
       "    IPython.notebook.set_dirty(true);\n",
       "    this.send_message(\"ack\", {});\n",
       "    var fig = this;\n",
       "    // Wait a second, then push the new image to the DOM so\n",
       "    // that it is saved nicely (might be nice to debounce this).\n",
       "    setTimeout(function () { fig.push_to_output() }, 1000);\n",
       "}\n",
       "\n",
       "mpl.figure.prototype._init_toolbar = function() {\n",
       "    var fig = this;\n",
       "\n",
       "    var nav_element = $('<div/>');\n",
       "    nav_element.attr('style', 'width: 100%');\n",
       "    this.root.append(nav_element);\n",
       "\n",
       "    // Define a callback function for later on.\n",
       "    function toolbar_event(event) {\n",
       "        return fig.toolbar_button_onclick(event['data']);\n",
       "    }\n",
       "    function toolbar_mouse_event(event) {\n",
       "        return fig.toolbar_button_onmouseover(event['data']);\n",
       "    }\n",
       "\n",
       "    for(var toolbar_ind in mpl.toolbar_items){\n",
       "        var name = mpl.toolbar_items[toolbar_ind][0];\n",
       "        var tooltip = mpl.toolbar_items[toolbar_ind][1];\n",
       "        var image = mpl.toolbar_items[toolbar_ind][2];\n",
       "        var method_name = mpl.toolbar_items[toolbar_ind][3];\n",
       "\n",
       "        if (!name) { continue; };\n",
       "\n",
       "        var button = $('<button class=\"btn btn-default\" href=\"#\" title=\"' + name + '\"><i class=\"fa ' + image + ' fa-lg\"></i></button>');\n",
       "        button.click(method_name, toolbar_event);\n",
       "        button.mouseover(tooltip, toolbar_mouse_event);\n",
       "        nav_element.append(button);\n",
       "    }\n",
       "\n",
       "    // Add the status bar.\n",
       "    var status_bar = $('<span class=\"mpl-message\" style=\"text-align:right; float: right;\"/>');\n",
       "    nav_element.append(status_bar);\n",
       "    this.message = status_bar[0];\n",
       "\n",
       "    // Add the close button to the window.\n",
       "    var buttongrp = $('<div class=\"btn-group inline pull-right\"></div>');\n",
       "    var button = $('<button class=\"btn btn-mini btn-primary\" href=\"#\" title=\"Stop Interaction\"><i class=\"fa fa-power-off icon-remove icon-large\"></i></button>');\n",
       "    button.click(function (evt) { fig.handle_close(fig, {}); } );\n",
       "    button.mouseover('Stop Interaction', toolbar_mouse_event);\n",
       "    buttongrp.append(button);\n",
       "    var titlebar = this.root.find($('.ui-dialog-titlebar'));\n",
       "    titlebar.prepend(buttongrp);\n",
       "}\n",
       "\n",
       "mpl.figure.prototype._root_extra_style = function(el){\n",
       "    var fig = this\n",
       "    el.on(\"remove\", function(){\n",
       "\tfig.close_ws(fig, {});\n",
       "    });\n",
       "}\n",
       "\n",
       "mpl.figure.prototype._canvas_extra_style = function(el){\n",
       "    // this is important to make the div 'focusable\n",
       "    el.attr('tabindex', 0)\n",
       "    // reach out to IPython and tell the keyboard manager to turn it's self\n",
       "    // off when our div gets focus\n",
       "\n",
       "    // location in version 3\n",
       "    if (IPython.notebook.keyboard_manager) {\n",
       "        IPython.notebook.keyboard_manager.register_events(el);\n",
       "    }\n",
       "    else {\n",
       "        // location in version 2\n",
       "        IPython.keyboard_manager.register_events(el);\n",
       "    }\n",
       "\n",
       "}\n",
       "\n",
       "mpl.figure.prototype._key_event_extra = function(event, name) {\n",
       "    var manager = IPython.notebook.keyboard_manager;\n",
       "    if (!manager)\n",
       "        manager = IPython.keyboard_manager;\n",
       "\n",
       "    // Check for shift+enter\n",
       "    if (event.shiftKey && event.which == 13) {\n",
       "        this.canvas_div.blur();\n",
       "        // select the cell after this one\n",
       "        var index = IPython.notebook.find_cell_index(this.cell_info[0]);\n",
       "        IPython.notebook.select(index + 1);\n",
       "    }\n",
       "}\n",
       "\n",
       "mpl.figure.prototype.handle_save = function(fig, msg) {\n",
       "    fig.ondownload(fig, null);\n",
       "}\n",
       "\n",
       "\n",
       "mpl.find_output_cell = function(html_output) {\n",
       "    // Return the cell and output element which can be found *uniquely* in the notebook.\n",
       "    // Note - this is a bit hacky, but it is done because the \"notebook_saving.Notebook\"\n",
       "    // IPython event is triggered only after the cells have been serialised, which for\n",
       "    // our purposes (turning an active figure into a static one), is too late.\n",
       "    var cells = IPython.notebook.get_cells();\n",
       "    var ncells = cells.length;\n",
       "    for (var i=0; i<ncells; i++) {\n",
       "        var cell = cells[i];\n",
       "        if (cell.cell_type === 'code'){\n",
       "            for (var j=0; j<cell.output_area.outputs.length; j++) {\n",
       "                var data = cell.output_area.outputs[j];\n",
       "                if (data.data) {\n",
       "                    // IPython >= 3 moved mimebundle to data attribute of output\n",
       "                    data = data.data;\n",
       "                }\n",
       "                if (data['text/html'] == html_output) {\n",
       "                    return [cell, data, j];\n",
       "                }\n",
       "            }\n",
       "        }\n",
       "    }\n",
       "}\n",
       "\n",
       "// Register the function which deals with the matplotlib target/channel.\n",
       "// The kernel may be null if the page has been refreshed.\n",
       "if (IPython.notebook.kernel != null) {\n",
       "    IPython.notebook.kernel.comm_manager.register_target('matplotlib', mpl.mpl_figure_comm);\n",
       "}\n"
      ],
      "text/plain": [
       "<IPython.core.display.Javascript object>"
      ]
     },
     "metadata": {},
     "output_type": "display_data"
    },
    {
     "data": {
      "text/html": [
       "<img src=\"data:image/png;base64,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\" width=\"640\">"
      ],
      "text/plain": [
       "<IPython.core.display.HTML object>"
      ]
     },
     "metadata": {},
     "output_type": "display_data"
    },
    {
     "data": {
      "text/plain": [
       "[<matplotlib.lines.Line2D at 0x186d9382e88>]"
      ]
     },
     "execution_count": 2,
     "metadata": {},
     "output_type": "execute_result"
    }
   ],
   "source": [
    "x_p1 = np.array([[1,2],[2,3],[3,3],[4,5],[5,5],[4,2],[5,0],[5,2],[3,2],[5,3],[6,3]])\n",
    "# x_2_p2 = np.array([[4,2],[5,0],[5,2],[3,2],[5,3],[6,3]])\n",
    "y_p1 = np.array([1,1,1,1,1,-1,-1,-1,-1,-1,-1])\n",
    "# y_1_p1 = np.array([])\n",
    "plt.scatter(x=x_p1[:,0][y_p1 == -1], y=x_p1[:,1][y_p1 == -1], marker='s', color='red', alpha=0.5, label=\"class 1\")\n",
    "plt.scatter(x=x_p1[:,0][y_p1 == 1], y=x_p1[:,1][y_p1 == 1], marker='o', color='blue', alpha=0.5, label=\"class 2\")\n",
    "plt.xlabel(\"feature 1\")\n",
    "plt.ylabel(\"feature 2\")\n",
    "plt.xlim((-1,7))\n",
    "plt.ylim((-2,6))\n",
    "plt.title(\"scatter plot\")\n",
    "plt.legend(loc='upper left')\n",
    "plt.grid()\n",
    "s = np.linspace(-2,10,250)\n",
    "t = 0.9*s\n",
    "plt.plot(s,t,\"black\")"
   ]
  },
  {
   "cell_type": "markdown",
   "metadata": {},
   "source": [
    "***\n",
    "## Activity Question 2\n",
    "***"
   ]
  },
  {
   "cell_type": "markdown",
   "metadata": {},
   "source": [
    "### Step 0: prepare the data"
   ]
  },
  {
   "cell_type": "code",
   "execution_count": 3,
   "metadata": {},
   "outputs": [],
   "source": [
    "# Generate data. \"random_state\" was set to 2 for easy replication \n",
    "x_p2, y_p2 = datasets.make_classification(n_samples=150, n_features=3, n_informative=2, n_redundant=0, \n",
    "                                          n_repeated=0, n_classes=3, n_clusters_per_class=1, weights=None, \n",
    "                                          class_sep=2, random_state=2, scale = 1)"
   ]
  },
  {
   "cell_type": "code",
   "execution_count": 5,
   "metadata": {},
   "outputs": [
    {
     "data": {
      "text/plain": [
       "array([[-1.169,  1.19 ,  0.946],\n",
       "       [ 2.117,  1.409, -3.065],\n",
       "       [ 1.408,  0.586, -1.055],\n",
       "       [ 2.618,  0.312, -3.06 ],\n",
       "       [ 2.243, -1.37 , -0.061],\n",
       "       [ 2.109,  2.102, -1.725],\n",
       "       [ 1.813,  0.712, -1.496],\n",
       "       [-2.475, -0.957,  2.964],\n",
       "       [ 1.785,  0.786, -2.914],\n",
       "       [ 3.048, -0.132,  3.14 ],\n",
       "       [-0.272,  0.114, -0.915],\n",
       "       [ 2.022, -0.221,  2.559],\n",
       "       [ 2.05 ,  0.748,  0.653],\n",
       "       [ 1.943,  2.67 , -2.415],\n",
       "       [ 1.105,  1.451, -1.634],\n",
       "       [-2.867, -1.056,  2.833],\n",
       "       [ 1.464, -1.246, -2.291],\n",
       "       [ 2.44 ,  0.708,  4.545],\n",
       "       [ 2.372, -0.677, -3.061],\n",
       "       [-2.088, -0.496,  2.611],\n",
       "       [-0.009, -0.209,  2.396],\n",
       "       [ 2.993, -0.165,  2.379],\n",
       "       [-1.85 , -0.183,  1.71 ],\n",
       "       [ 2.546,  0.549, -1.347],\n",
       "       [-1.972, -0.708,  2.316],\n",
       "       [-1.461, -0.255,  1.335],\n",
       "       [-1.361,  0.187,  1.701],\n",
       "       [-1.952, -0.158,  1.538],\n",
       "       [ 2.926, -0.883,  1.573],\n",
       "       [ 2.681, -0.997, -2.252],\n",
       "       [-2.195,  2.283,  2.37 ],\n",
       "       [-2.53 ,  0.521,  2.201],\n",
       "       [ 0.689,  0.416,  0.442],\n",
       "       [ 1.518, -0.834,  0.804],\n",
       "       [-0.577,  0.021,  0.808],\n",
       "       [ 1.843, -1.801, -1.109],\n",
       "       [-1.263, -0.939,  1.319],\n",
       "       [-2.082, -1.014,  1.933],\n",
       "       [ 1.998,  1.621,  1.478],\n",
       "       [ 2.764, -0.447,  3.085],\n",
       "       [ 1.283,  1.642, -1.302],\n",
       "       [ 3.25 , -0.577,  0.343],\n",
       "       [ 1.017, -0.263, -0.18 ],\n",
       "       [ 1.899, -0.189,  2.436],\n",
       "       [ 3.688,  0.821,  1.525],\n",
       "       [ 0.99 ,  0.488,  1.442],\n",
       "       [-2.122, -0.045,  2.202],\n",
       "       [ 2.039, -1.065, -1.416],\n",
       "       [ 2.544,  0.714,  1.389],\n",
       "       [ 2.019,  0.327, -2.855],\n",
       "       [-1.861, -0.231,  1.723],\n",
       "       [-0.633,  0.563,  1.338],\n",
       "       [ 1.936,  0.635, -0.852],\n",
       "       [ 1.845, -0.152,  0.55 ],\n",
       "       [ 2.255, -0.835, -3.438],\n",
       "       [-1.248, -1.16 ,  1.181],\n",
       "       [ 1.006,  0.83 ,  2.208],\n",
       "       [ 1.952, -2.075,  1.309],\n",
       "       [ 1.647,  0.838,  1.572],\n",
       "       [-2.305,  0.718,  2.181],\n",
       "       [-1.559,  0.287,  0.835],\n",
       "       [-1.314, -0.493,  1.547],\n",
       "       [ 1.672, -1.401, -1.688],\n",
       "       [-3.034,  0.343,  2.9  ],\n",
       "       [ 2.203, -1.173,  3.141],\n",
       "       [ 2.499,  1.468,  3.035],\n",
       "       [-1.369,  0.629,  1.511],\n",
       "       [-1.719, -1.529,  1.909],\n",
       "       [-2.643, -1.251,  2.643],\n",
       "       [ 1.771,  1.111, -2.297],\n",
       "       [-2.192, -1.083,  2.483],\n",
       "       [ 2.193,  2.302,  1.371],\n",
       "       [ 2.045, -0.02 , -1.173],\n",
       "       [ 2.631,  0.6  , -2.746],\n",
       "       [-1.   ,  0.713, -1.368],\n",
       "       [ 1.323,  1.384,  0.223],\n",
       "       [-1.862, -0.062,  1.699],\n",
       "       [ 1.672, -1.126,  1.283],\n",
       "       [ 1.607, -0.233, -3.133],\n",
       "       [-1.574, -0.338,  1.561],\n",
       "       [-1.762, -0.658,  1.818],\n",
       "       [ 1.709,  0.31 ,  1.027],\n",
       "       [ 2.359,  3.161, -1.654],\n",
       "       [-2.603,  1.156,  2.545],\n",
       "       [ 2.806,  0.148, -0.533],\n",
       "       [ 1.564,  0.426, -1.61 ],\n",
       "       [-2.676,  0.781,  2.759],\n",
       "       [ 1.444,  0.308, -0.808],\n",
       "       [ 1.039,  1.545,  0.88 ],\n",
       "       [-1.825,  0.184,  1.988],\n",
       "       [-0.959, -0.215,  0.867],\n",
       "       [-1.494, -0.308,  1.777],\n",
       "       [ 1.901,  0.632, -1.675],\n",
       "       [ 0.385, -1.281,  1.098],\n",
       "       [-1.84 , -0.065,  1.891],\n",
       "       [ 1.038,  1.425,  1.539],\n",
       "       [-2.144,  0.766,  2.01 ],\n",
       "       [ 3.526,  2.53 ,  2.392],\n",
       "       [-1.242, -1.075,  1.226],\n",
       "       [ 1.516,  1.548,  1.591],\n",
       "       [ 3.084, -0.167,  2.454],\n",
       "       [-2.106, -0.953,  2.246],\n",
       "       [-1.624, -0.564,  1.814],\n",
       "       [ 2.732,  1.615, -2.958],\n",
       "       [ 1.834,  0.066,  0.086],\n",
       "       [ 1.557,  0.848,  1.959],\n",
       "       [ 3.087, -0.449,  2.29 ],\n",
       "       [ 1.601, -1.455, -0.898],\n",
       "       [ 3.379,  0.94 ,  2.172],\n",
       "       [-1.268,  0.519,  0.942],\n",
       "       [ 2.191,  0.067, -1.888],\n",
       "       [ 2.913,  0.5  , -1.778],\n",
       "       [-2.916,  0.577,  2.573],\n",
       "       [ 2.069, -0.489,  1.48 ],\n",
       "       [ 2.461, -0.603, -4.277],\n",
       "       [ 2.402,  1.248, -4.833],\n",
       "       [ 2.642, -0.658,  3.276],\n",
       "       [ 2.954,  0.536, -0.597],\n",
       "       [ 2.092,  0.042, -1.966],\n",
       "       [ 2.156,  0.194, -1.859],\n",
       "       [ 2.256, -0.372, -1.573],\n",
       "       [ 1.402, -0.654, -0.944],\n",
       "       [-1.344, -0.331,  1.292],\n",
       "       [ 1.575, -0.4  ,  0.985],\n",
       "       [ 1.38 , -0.316,  3.645],\n",
       "       [ 2.692,  0.418, -0.816],\n",
       "       [ 1.891,  1.019,  3.22 ],\n",
       "       [-0.915,  1.913,  0.572],\n",
       "       [ 2.257, -0.373, -1.455],\n",
       "       [ 0.419,  1.831,  1.146],\n",
       "       [ 2.045,  0.932,  2.623],\n",
       "       [ 2.567,  0.146,  1.936],\n",
       "       [ 2.199, -1.914, -2.03 ],\n",
       "       [ 2.175, -1.61 ,  0.718],\n",
       "       [ 2.567, -0.414, -3.847],\n",
       "       [-2.709, -1.018,  2.227],\n",
       "       [-2.09 , -1.115,  2.066],\n",
       "       [ 2.354, -0.058,  2.906],\n",
       "       [-1.162, -0.164,  0.825],\n",
       "       [-2.571, -0.544,  2.426],\n",
       "       [ 3.043,  0.815,  3.225],\n",
       "       [-1.77 , -1.087,  1.623],\n",
       "       [-1.923,  1.098,  2.172],\n",
       "       [ 2.006,  0.138,  1.196],\n",
       "       [-1.943,  0.372,  1.972],\n",
       "       [ 0.418,  0.336,  2.522],\n",
       "       [-1.345, -2.088,  1.615],\n",
       "       [ 2.252,  0.11 , -3.062],\n",
       "       [ 2.426,  1.145,  1.913],\n",
       "       [ 1.954, -0.103,  2.877]])"
      ]
     },
     "execution_count": 5,
     "metadata": {},
     "output_type": "execute_result"
    }
   ],
   "source": [
    "x_p2"
   ]
  },
  {
   "cell_type": "code",
   "execution_count": 7,
   "metadata": {},
   "outputs": [
    {
     "data": {
      "text/plain": [
       "array([2, 0, 0, 0, 0, 0, 0, 2, 0, 1, 1, 1, 0, 0, 0, 2, 0, 1, 0, 2, 1, 1,\n",
       "       2, 0, 2, 2, 2, 2, 1, 0, 2, 2, 1, 1, 2, 0, 2, 2, 1, 1, 0, 1, 0, 1,\n",
       "       1, 1, 2, 0, 1, 0, 2, 1, 0, 1, 0, 2, 1, 1, 1, 2, 2, 2, 0, 2, 1, 1,\n",
       "       2, 2, 2, 0, 2, 1, 0, 0, 1, 0, 2, 1, 0, 2, 2, 1, 0, 2, 0, 0, 2, 0,\n",
       "       1, 2, 2, 2, 0, 1, 2, 1, 2, 1, 2, 1, 1, 2, 2, 0, 0, 1, 1, 0, 1, 2,\n",
       "       0, 0, 2, 1, 0, 0, 1, 0, 0, 0, 0, 0, 2, 1, 1, 0, 1, 2, 0, 1, 1, 1,\n",
       "       0, 0, 0, 2, 2, 1, 2, 2, 1, 2, 2, 1, 2, 1, 2, 0, 1, 1])"
      ]
     },
     "execution_count": 7,
     "metadata": {},
     "output_type": "execute_result"
    }
   ],
   "source": [
    "y_p2"
   ]
  },
  {
   "cell_type": "code",
   "execution_count": 9,
   "metadata": {},
   "outputs": [
    {
     "data": {
      "text/plain": [
       "array([2.117, 1.408, 2.618, 2.243, 2.109, 1.813, 1.785, 2.05 , 1.943,\n",
       "       1.105, 1.464, 2.372, 2.546, 2.681, 1.843, 1.283, 1.017, 2.039,\n",
       "       2.019, 1.936, 2.255, 1.672, 1.771, 2.045, 2.631, 1.323, 1.607,\n",
       "       2.359, 2.806, 1.564, 1.444, 1.901, 2.732, 1.834, 1.601, 2.191,\n",
       "       2.913, 2.461, 2.402, 2.954, 2.092, 2.156, 2.256, 1.402, 2.692,\n",
       "       2.257, 2.199, 2.175, 2.567, 2.252])"
      ]
     },
     "execution_count": 9,
     "metadata": {},
     "output_type": "execute_result"
    }
   ],
   "source": [
    "x_p2[:,0][y_p2 == 0]"
   ]
  },
  {
   "cell_type": "code",
   "execution_count": 4,
   "metadata": {},
   "outputs": [
    {
     "data": {
      "application/javascript": [
       "/* Put everything inside the global mpl namespace */\n",
       "window.mpl = {};\n",
       "\n",
       "\n",
       "mpl.get_websocket_type = function() {\n",
       "    if (typeof(WebSocket) !== 'undefined') {\n",
       "        return WebSocket;\n",
       "    } else if (typeof(MozWebSocket) !== 'undefined') {\n",
       "        return MozWebSocket;\n",
       "    } else {\n",
       "        alert('Your browser does not have WebSocket support. ' +\n",
       "              'Please try Chrome, Safari or Firefox ≥ 6. ' +\n",
       "              'Firefox 4 and 5 are also supported but you ' +\n",
       "              'have to enable WebSockets in about:config.');\n",
       "    };\n",
       "}\n",
       "\n",
       "mpl.figure = function(figure_id, websocket, ondownload, parent_element) {\n",
       "    this.id = figure_id;\n",
       "\n",
       "    this.ws = websocket;\n",
       "\n",
       "    this.supports_binary = (this.ws.binaryType != undefined);\n",
       "\n",
       "    if (!this.supports_binary) {\n",
       "        var warnings = document.getElementById(\"mpl-warnings\");\n",
       "        if (warnings) {\n",
       "            warnings.style.display = 'block';\n",
       "            warnings.textContent = (\n",
       "                \"This browser does not support binary websocket messages. \" +\n",
       "                    \"Performance may be slow.\");\n",
       "        }\n",
       "    }\n",
       "\n",
       "    this.imageObj = new Image();\n",
       "\n",
       "    this.context = undefined;\n",
       "    this.message = undefined;\n",
       "    this.canvas = undefined;\n",
       "    this.rubberband_canvas = undefined;\n",
       "    this.rubberband_context = undefined;\n",
       "    this.format_dropdown = undefined;\n",
       "\n",
       "    this.image_mode = 'full';\n",
       "\n",
       "    this.root = $('<div/>');\n",
       "    this._root_extra_style(this.root)\n",
       "    this.root.attr('style', 'display: inline-block');\n",
       "\n",
       "    $(parent_element).append(this.root);\n",
       "\n",
       "    this._init_header(this);\n",
       "    this._init_canvas(this);\n",
       "    this._init_toolbar(this);\n",
       "\n",
       "    var fig = this;\n",
       "\n",
       "    this.waiting = false;\n",
       "\n",
       "    this.ws.onopen =  function () {\n",
       "            fig.send_message(\"supports_binary\", {value: fig.supports_binary});\n",
       "            fig.send_message(\"send_image_mode\", {});\n",
       "            if (mpl.ratio != 1) {\n",
       "                fig.send_message(\"set_dpi_ratio\", {'dpi_ratio': mpl.ratio});\n",
       "            }\n",
       "            fig.send_message(\"refresh\", {});\n",
       "        }\n",
       "\n",
       "    this.imageObj.onload = function() {\n",
       "            if (fig.image_mode == 'full') {\n",
       "                // Full images could contain transparency (where diff images\n",
       "                // almost always do), so we need to clear the canvas so that\n",
       "                // there is no ghosting.\n",
       "                fig.context.clearRect(0, 0, fig.canvas.width, fig.canvas.height);\n",
       "            }\n",
       "            fig.context.drawImage(fig.imageObj, 0, 0);\n",
       "        };\n",
       "\n",
       "    this.imageObj.onunload = function() {\n",
       "        fig.ws.close();\n",
       "    }\n",
       "\n",
       "    this.ws.onmessage = this._make_on_message_function(this);\n",
       "\n",
       "    this.ondownload = ondownload;\n",
       "}\n",
       "\n",
       "mpl.figure.prototype._init_header = function() {\n",
       "    var titlebar = $(\n",
       "        '<div class=\"ui-dialog-titlebar ui-widget-header ui-corner-all ' +\n",
       "        'ui-helper-clearfix\"/>');\n",
       "    var titletext = $(\n",
       "        '<div class=\"ui-dialog-title\" style=\"width: 100%; ' +\n",
       "        'text-align: center; padding: 3px;\"/>');\n",
       "    titlebar.append(titletext)\n",
       "    this.root.append(titlebar);\n",
       "    this.header = titletext[0];\n",
       "}\n",
       "\n",
       "\n",
       "\n",
       "mpl.figure.prototype._canvas_extra_style = function(canvas_div) {\n",
       "\n",
       "}\n",
       "\n",
       "\n",
       "mpl.figure.prototype._root_extra_style = function(canvas_div) {\n",
       "\n",
       "}\n",
       "\n",
       "mpl.figure.prototype._init_canvas = function() {\n",
       "    var fig = this;\n",
       "\n",
       "    var canvas_div = $('<div/>');\n",
       "\n",
       "    canvas_div.attr('style', 'position: relative; clear: both; outline: 0');\n",
       "\n",
       "    function canvas_keyboard_event(event) {\n",
       "        return fig.key_event(event, event['data']);\n",
       "    }\n",
       "\n",
       "    canvas_div.keydown('key_press', canvas_keyboard_event);\n",
       "    canvas_div.keyup('key_release', canvas_keyboard_event);\n",
       "    this.canvas_div = canvas_div\n",
       "    this._canvas_extra_style(canvas_div)\n",
       "    this.root.append(canvas_div);\n",
       "\n",
       "    var canvas = $('<canvas/>');\n",
       "    canvas.addClass('mpl-canvas');\n",
       "    canvas.attr('style', \"left: 0; top: 0; z-index: 0; outline: 0\")\n",
       "\n",
       "    this.canvas = canvas[0];\n",
       "    this.context = canvas[0].getContext(\"2d\");\n",
       "\n",
       "    var backingStore = this.context.backingStorePixelRatio ||\n",
       "\tthis.context.webkitBackingStorePixelRatio ||\n",
       "\tthis.context.mozBackingStorePixelRatio ||\n",
       "\tthis.context.msBackingStorePixelRatio ||\n",
       "\tthis.context.oBackingStorePixelRatio ||\n",
       "\tthis.context.backingStorePixelRatio || 1;\n",
       "\n",
       "    mpl.ratio = (window.devicePixelRatio || 1) / backingStore;\n",
       "\n",
       "    var rubberband = $('<canvas/>');\n",
       "    rubberband.attr('style', \"position: absolute; left: 0; top: 0; z-index: 1;\")\n",
       "\n",
       "    var pass_mouse_events = true;\n",
       "\n",
       "    canvas_div.resizable({\n",
       "        start: function(event, ui) {\n",
       "            pass_mouse_events = false;\n",
       "        },\n",
       "        resize: function(event, ui) {\n",
       "            fig.request_resize(ui.size.width, ui.size.height);\n",
       "        },\n",
       "        stop: function(event, ui) {\n",
       "            pass_mouse_events = true;\n",
       "            fig.request_resize(ui.size.width, ui.size.height);\n",
       "        },\n",
       "    });\n",
       "\n",
       "    function mouse_event_fn(event) {\n",
       "        if (pass_mouse_events)\n",
       "            return fig.mouse_event(event, event['data']);\n",
       "    }\n",
       "\n",
       "    rubberband.mousedown('button_press', mouse_event_fn);\n",
       "    rubberband.mouseup('button_release', mouse_event_fn);\n",
       "    // Throttle sequential mouse events to 1 every 20ms.\n",
       "    rubberband.mousemove('motion_notify', mouse_event_fn);\n",
       "\n",
       "    rubberband.mouseenter('figure_enter', mouse_event_fn);\n",
       "    rubberband.mouseleave('figure_leave', mouse_event_fn);\n",
       "\n",
       "    canvas_div.on(\"wheel\", function (event) {\n",
       "        event = event.originalEvent;\n",
       "        event['data'] = 'scroll'\n",
       "        if (event.deltaY < 0) {\n",
       "            event.step = 1;\n",
       "        } else {\n",
       "            event.step = -1;\n",
       "        }\n",
       "        mouse_event_fn(event);\n",
       "    });\n",
       "\n",
       "    canvas_div.append(canvas);\n",
       "    canvas_div.append(rubberband);\n",
       "\n",
       "    this.rubberband = rubberband;\n",
       "    this.rubberband_canvas = rubberband[0];\n",
       "    this.rubberband_context = rubberband[0].getContext(\"2d\");\n",
       "    this.rubberband_context.strokeStyle = \"#000000\";\n",
       "\n",
       "    this._resize_canvas = function(width, height) {\n",
       "        // Keep the size of the canvas, canvas container, and rubber band\n",
       "        // canvas in synch.\n",
       "        canvas_div.css('width', width)\n",
       "        canvas_div.css('height', height)\n",
       "\n",
       "        canvas.attr('width', width * mpl.ratio);\n",
       "        canvas.attr('height', height * mpl.ratio);\n",
       "        canvas.attr('style', 'width: ' + width + 'px; height: ' + height + 'px;');\n",
       "\n",
       "        rubberband.attr('width', width);\n",
       "        rubberband.attr('height', height);\n",
       "    }\n",
       "\n",
       "    // Set the figure to an initial 600x600px, this will subsequently be updated\n",
       "    // upon first draw.\n",
       "    this._resize_canvas(600, 600);\n",
       "\n",
       "    // Disable right mouse context menu.\n",
       "    $(this.rubberband_canvas).bind(\"contextmenu\",function(e){\n",
       "        return false;\n",
       "    });\n",
       "\n",
       "    function set_focus () {\n",
       "        canvas.focus();\n",
       "        canvas_div.focus();\n",
       "    }\n",
       "\n",
       "    window.setTimeout(set_focus, 100);\n",
       "}\n",
       "\n",
       "mpl.figure.prototype._init_toolbar = function() {\n",
       "    var fig = this;\n",
       "\n",
       "    var nav_element = $('<div/>');\n",
       "    nav_element.attr('style', 'width: 100%');\n",
       "    this.root.append(nav_element);\n",
       "\n",
       "    // Define a callback function for later on.\n",
       "    function toolbar_event(event) {\n",
       "        return fig.toolbar_button_onclick(event['data']);\n",
       "    }\n",
       "    function toolbar_mouse_event(event) {\n",
       "        return fig.toolbar_button_onmouseover(event['data']);\n",
       "    }\n",
       "\n",
       "    for(var toolbar_ind in mpl.toolbar_items) {\n",
       "        var name = mpl.toolbar_items[toolbar_ind][0];\n",
       "        var tooltip = mpl.toolbar_items[toolbar_ind][1];\n",
       "        var image = mpl.toolbar_items[toolbar_ind][2];\n",
       "        var method_name = mpl.toolbar_items[toolbar_ind][3];\n",
       "\n",
       "        if (!name) {\n",
       "            // put a spacer in here.\n",
       "            continue;\n",
       "        }\n",
       "        var button = $('<button/>');\n",
       "        button.addClass('ui-button ui-widget ui-state-default ui-corner-all ' +\n",
       "                        'ui-button-icon-only');\n",
       "        button.attr('role', 'button');\n",
       "        button.attr('aria-disabled', 'false');\n",
       "        button.click(method_name, toolbar_event);\n",
       "        button.mouseover(tooltip, toolbar_mouse_event);\n",
       "\n",
       "        var icon_img = $('<span/>');\n",
       "        icon_img.addClass('ui-button-icon-primary ui-icon');\n",
       "        icon_img.addClass(image);\n",
       "        icon_img.addClass('ui-corner-all');\n",
       "\n",
       "        var tooltip_span = $('<span/>');\n",
       "        tooltip_span.addClass('ui-button-text');\n",
       "        tooltip_span.html(tooltip);\n",
       "\n",
       "        button.append(icon_img);\n",
       "        button.append(tooltip_span);\n",
       "\n",
       "        nav_element.append(button);\n",
       "    }\n",
       "\n",
       "    var fmt_picker_span = $('<span/>');\n",
       "\n",
       "    var fmt_picker = $('<select/>');\n",
       "    fmt_picker.addClass('mpl-toolbar-option ui-widget ui-widget-content');\n",
       "    fmt_picker_span.append(fmt_picker);\n",
       "    nav_element.append(fmt_picker_span);\n",
       "    this.format_dropdown = fmt_picker[0];\n",
       "\n",
       "    for (var ind in mpl.extensions) {\n",
       "        var fmt = mpl.extensions[ind];\n",
       "        var option = $(\n",
       "            '<option/>', {selected: fmt === mpl.default_extension}).html(fmt);\n",
       "        fmt_picker.append(option);\n",
       "    }\n",
       "\n",
       "    // Add hover states to the ui-buttons\n",
       "    $( \".ui-button\" ).hover(\n",
       "        function() { $(this).addClass(\"ui-state-hover\");},\n",
       "        function() { $(this).removeClass(\"ui-state-hover\");}\n",
       "    );\n",
       "\n",
       "    var status_bar = $('<span class=\"mpl-message\"/>');\n",
       "    nav_element.append(status_bar);\n",
       "    this.message = status_bar[0];\n",
       "}\n",
       "\n",
       "mpl.figure.prototype.request_resize = function(x_pixels, y_pixels) {\n",
       "    // Request matplotlib to resize the figure. Matplotlib will then trigger a resize in the client,\n",
       "    // which will in turn request a refresh of the image.\n",
       "    this.send_message('resize', {'width': x_pixels, 'height': y_pixels});\n",
       "}\n",
       "\n",
       "mpl.figure.prototype.send_message = function(type, properties) {\n",
       "    properties['type'] = type;\n",
       "    properties['figure_id'] = this.id;\n",
       "    this.ws.send(JSON.stringify(properties));\n",
       "}\n",
       "\n",
       "mpl.figure.prototype.send_draw_message = function() {\n",
       "    if (!this.waiting) {\n",
       "        this.waiting = true;\n",
       "        this.ws.send(JSON.stringify({type: \"draw\", figure_id: this.id}));\n",
       "    }\n",
       "}\n",
       "\n",
       "\n",
       "mpl.figure.prototype.handle_save = function(fig, msg) {\n",
       "    var format_dropdown = fig.format_dropdown;\n",
       "    var format = format_dropdown.options[format_dropdown.selectedIndex].value;\n",
       "    fig.ondownload(fig, format);\n",
       "}\n",
       "\n",
       "\n",
       "mpl.figure.prototype.handle_resize = function(fig, msg) {\n",
       "    var size = msg['size'];\n",
       "    if (size[0] != fig.canvas.width || size[1] != fig.canvas.height) {\n",
       "        fig._resize_canvas(size[0], size[1]);\n",
       "        fig.send_message(\"refresh\", {});\n",
       "    };\n",
       "}\n",
       "\n",
       "mpl.figure.prototype.handle_rubberband = function(fig, msg) {\n",
       "    var x0 = msg['x0'] / mpl.ratio;\n",
       "    var y0 = (fig.canvas.height - msg['y0']) / mpl.ratio;\n",
       "    var x1 = msg['x1'] / mpl.ratio;\n",
       "    var y1 = (fig.canvas.height - msg['y1']) / mpl.ratio;\n",
       "    x0 = Math.floor(x0) + 0.5;\n",
       "    y0 = Math.floor(y0) + 0.5;\n",
       "    x1 = Math.floor(x1) + 0.5;\n",
       "    y1 = Math.floor(y1) + 0.5;\n",
       "    var min_x = Math.min(x0, x1);\n",
       "    var min_y = Math.min(y0, y1);\n",
       "    var width = Math.abs(x1 - x0);\n",
       "    var height = Math.abs(y1 - y0);\n",
       "\n",
       "    fig.rubberband_context.clearRect(\n",
       "        0, 0, fig.canvas.width / mpl.ratio, fig.canvas.height / mpl.ratio);\n",
       "\n",
       "    fig.rubberband_context.strokeRect(min_x, min_y, width, height);\n",
       "}\n",
       "\n",
       "mpl.figure.prototype.handle_figure_label = function(fig, msg) {\n",
       "    // Updates the figure title.\n",
       "    fig.header.textContent = msg['label'];\n",
       "}\n",
       "\n",
       "mpl.figure.prototype.handle_cursor = function(fig, msg) {\n",
       "    var cursor = msg['cursor'];\n",
       "    switch(cursor)\n",
       "    {\n",
       "    case 0:\n",
       "        cursor = 'pointer';\n",
       "        break;\n",
       "    case 1:\n",
       "        cursor = 'default';\n",
       "        break;\n",
       "    case 2:\n",
       "        cursor = 'crosshair';\n",
       "        break;\n",
       "    case 3:\n",
       "        cursor = 'move';\n",
       "        break;\n",
       "    }\n",
       "    fig.rubberband_canvas.style.cursor = cursor;\n",
       "}\n",
       "\n",
       "mpl.figure.prototype.handle_message = function(fig, msg) {\n",
       "    fig.message.textContent = msg['message'];\n",
       "}\n",
       "\n",
       "mpl.figure.prototype.handle_draw = function(fig, msg) {\n",
       "    // Request the server to send over a new figure.\n",
       "    fig.send_draw_message();\n",
       "}\n",
       "\n",
       "mpl.figure.prototype.handle_image_mode = function(fig, msg) {\n",
       "    fig.image_mode = msg['mode'];\n",
       "}\n",
       "\n",
       "mpl.figure.prototype.updated_canvas_event = function() {\n",
       "    // Called whenever the canvas gets updated.\n",
       "    this.send_message(\"ack\", {});\n",
       "}\n",
       "\n",
       "// A function to construct a web socket function for onmessage handling.\n",
       "// Called in the figure constructor.\n",
       "mpl.figure.prototype._make_on_message_function = function(fig) {\n",
       "    return function socket_on_message(evt) {\n",
       "        if (evt.data instanceof Blob) {\n",
       "            /* FIXME: We get \"Resource interpreted as Image but\n",
       "             * transferred with MIME type text/plain:\" errors on\n",
       "             * Chrome.  But how to set the MIME type?  It doesn't seem\n",
       "             * to be part of the websocket stream */\n",
       "            evt.data.type = \"image/png\";\n",
       "\n",
       "            /* Free the memory for the previous frames */\n",
       "            if (fig.imageObj.src) {\n",
       "                (window.URL || window.webkitURL).revokeObjectURL(\n",
       "                    fig.imageObj.src);\n",
       "            }\n",
       "\n",
       "            fig.imageObj.src = (window.URL || window.webkitURL).createObjectURL(\n",
       "                evt.data);\n",
       "            fig.updated_canvas_event();\n",
       "            fig.waiting = false;\n",
       "            return;\n",
       "        }\n",
       "        else if (typeof evt.data === 'string' && evt.data.slice(0, 21) == \"data:image/png;base64\") {\n",
       "            fig.imageObj.src = evt.data;\n",
       "            fig.updated_canvas_event();\n",
       "            fig.waiting = false;\n",
       "            return;\n",
       "        }\n",
       "\n",
       "        var msg = JSON.parse(evt.data);\n",
       "        var msg_type = msg['type'];\n",
       "\n",
       "        // Call the  \"handle_{type}\" callback, which takes\n",
       "        // the figure and JSON message as its only arguments.\n",
       "        try {\n",
       "            var callback = fig[\"handle_\" + msg_type];\n",
       "        } catch (e) {\n",
       "            console.log(\"No handler for the '\" + msg_type + \"' message type: \", msg);\n",
       "            return;\n",
       "        }\n",
       "\n",
       "        if (callback) {\n",
       "            try {\n",
       "                // console.log(\"Handling '\" + msg_type + \"' message: \", msg);\n",
       "                callback(fig, msg);\n",
       "            } catch (e) {\n",
       "                console.log(\"Exception inside the 'handler_\" + msg_type + \"' callback:\", e, e.stack, msg);\n",
       "            }\n",
       "        }\n",
       "    };\n",
       "}\n",
       "\n",
       "// from http://stackoverflow.com/questions/1114465/getting-mouse-location-in-canvas\n",
       "mpl.findpos = function(e) {\n",
       "    //this section is from http://www.quirksmode.org/js/events_properties.html\n",
       "    var targ;\n",
       "    if (!e)\n",
       "        e = window.event;\n",
       "    if (e.target)\n",
       "        targ = e.target;\n",
       "    else if (e.srcElement)\n",
       "        targ = e.srcElement;\n",
       "    if (targ.nodeType == 3) // defeat Safari bug\n",
       "        targ = targ.parentNode;\n",
       "\n",
       "    // jQuery normalizes the pageX and pageY\n",
       "    // pageX,Y are the mouse positions relative to the document\n",
       "    // offset() returns the position of the element relative to the document\n",
       "    var x = e.pageX - $(targ).offset().left;\n",
       "    var y = e.pageY - $(targ).offset().top;\n",
       "\n",
       "    return {\"x\": x, \"y\": y};\n",
       "};\n",
       "\n",
       "/*\n",
       " * return a copy of an object with only non-object keys\n",
       " * we need this to avoid circular references\n",
       " * http://stackoverflow.com/a/24161582/3208463\n",
       " */\n",
       "function simpleKeys (original) {\n",
       "  return Object.keys(original).reduce(function (obj, key) {\n",
       "    if (typeof original[key] !== 'object')\n",
       "        obj[key] = original[key]\n",
       "    return obj;\n",
       "  }, {});\n",
       "}\n",
       "\n",
       "mpl.figure.prototype.mouse_event = function(event, name) {\n",
       "    var canvas_pos = mpl.findpos(event)\n",
       "\n",
       "    if (name === 'button_press')\n",
       "    {\n",
       "        this.canvas.focus();\n",
       "        this.canvas_div.focus();\n",
       "    }\n",
       "\n",
       "    var x = canvas_pos.x * mpl.ratio;\n",
       "    var y = canvas_pos.y * mpl.ratio;\n",
       "\n",
       "    this.send_message(name, {x: x, y: y, button: event.button,\n",
       "                             step: event.step,\n",
       "                             guiEvent: simpleKeys(event)});\n",
       "\n",
       "    /* This prevents the web browser from automatically changing to\n",
       "     * the text insertion cursor when the button is pressed.  We want\n",
       "     * to control all of the cursor setting manually through the\n",
       "     * 'cursor' event from matplotlib */\n",
       "    event.preventDefault();\n",
       "    return false;\n",
       "}\n",
       "\n",
       "mpl.figure.prototype._key_event_extra = function(event, name) {\n",
       "    // Handle any extra behaviour associated with a key event\n",
       "}\n",
       "\n",
       "mpl.figure.prototype.key_event = function(event, name) {\n",
       "\n",
       "    // Prevent repeat events\n",
       "    if (name == 'key_press')\n",
       "    {\n",
       "        if (event.which === this._key)\n",
       "            return;\n",
       "        else\n",
       "            this._key = event.which;\n",
       "    }\n",
       "    if (name == 'key_release')\n",
       "        this._key = null;\n",
       "\n",
       "    var value = '';\n",
       "    if (event.ctrlKey && event.which != 17)\n",
       "        value += \"ctrl+\";\n",
       "    if (event.altKey && event.which != 18)\n",
       "        value += \"alt+\";\n",
       "    if (event.shiftKey && event.which != 16)\n",
       "        value += \"shift+\";\n",
       "\n",
       "    value += 'k';\n",
       "    value += event.which.toString();\n",
       "\n",
       "    this._key_event_extra(event, name);\n",
       "\n",
       "    this.send_message(name, {key: value,\n",
       "                             guiEvent: simpleKeys(event)});\n",
       "    return false;\n",
       "}\n",
       "\n",
       "mpl.figure.prototype.toolbar_button_onclick = function(name) {\n",
       "    if (name == 'download') {\n",
       "        this.handle_save(this, null);\n",
       "    } else {\n",
       "        this.send_message(\"toolbar_button\", {name: name});\n",
       "    }\n",
       "};\n",
       "\n",
       "mpl.figure.prototype.toolbar_button_onmouseover = function(tooltip) {\n",
       "    this.message.textContent = tooltip;\n",
       "};\n",
       "mpl.toolbar_items = [[\"Home\", \"Reset original view\", \"fa fa-home icon-home\", \"home\"], [\"Back\", \"Back to previous view\", \"fa fa-arrow-left icon-arrow-left\", \"back\"], [\"Forward\", \"Forward to next view\", \"fa fa-arrow-right icon-arrow-right\", \"forward\"], [\"\", \"\", \"\", \"\"], [\"Pan\", \"Pan axes with left mouse, zoom with right\", \"fa fa-arrows icon-move\", \"pan\"], [\"Zoom\", \"Zoom to rectangle\", \"fa fa-square-o icon-check-empty\", \"zoom\"], [\"\", \"\", \"\", \"\"], [\"Download\", \"Download plot\", \"fa fa-floppy-o icon-save\", \"download\"]];\n",
       "\n",
       "mpl.extensions = [\"eps\", \"jpeg\", \"pdf\", \"png\", \"ps\", \"raw\", \"svg\", \"tif\"];\n",
       "\n",
       "mpl.default_extension = \"png\";var comm_websocket_adapter = function(comm) {\n",
       "    // Create a \"websocket\"-like object which calls the given IPython comm\n",
       "    // object with the appropriate methods. Currently this is a non binary\n",
       "    // socket, so there is still some room for performance tuning.\n",
       "    var ws = {};\n",
       "\n",
       "    ws.close = function() {\n",
       "        comm.close()\n",
       "    };\n",
       "    ws.send = function(m) {\n",
       "        //console.log('sending', m);\n",
       "        comm.send(m);\n",
       "    };\n",
       "    // Register the callback with on_msg.\n",
       "    comm.on_msg(function(msg) {\n",
       "        //console.log('receiving', msg['content']['data'], msg);\n",
       "        // Pass the mpl event to the overridden (by mpl) onmessage function.\n",
       "        ws.onmessage(msg['content']['data'])\n",
       "    });\n",
       "    return ws;\n",
       "}\n",
       "\n",
       "mpl.mpl_figure_comm = function(comm, msg) {\n",
       "    // This is the function which gets called when the mpl process\n",
       "    // starts-up an IPython Comm through the \"matplotlib\" channel.\n",
       "\n",
       "    var id = msg.content.data.id;\n",
       "    // Get hold of the div created by the display call when the Comm\n",
       "    // socket was opened in Python.\n",
       "    var element = $(\"#\" + id);\n",
       "    var ws_proxy = comm_websocket_adapter(comm)\n",
       "\n",
       "    function ondownload(figure, format) {\n",
       "        window.open(figure.imageObj.src);\n",
       "    }\n",
       "\n",
       "    var fig = new mpl.figure(id, ws_proxy,\n",
       "                           ondownload,\n",
       "                           element.get(0));\n",
       "\n",
       "    // Call onopen now - mpl needs it, as it is assuming we've passed it a real\n",
       "    // web socket which is closed, not our websocket->open comm proxy.\n",
       "    ws_proxy.onopen();\n",
       "\n",
       "    fig.parent_element = element.get(0);\n",
       "    fig.cell_info = mpl.find_output_cell(\"<div id='\" + id + \"'></div>\");\n",
       "    if (!fig.cell_info) {\n",
       "        console.error(\"Failed to find cell for figure\", id, fig);\n",
       "        return;\n",
       "    }\n",
       "\n",
       "    var output_index = fig.cell_info[2]\n",
       "    var cell = fig.cell_info[0];\n",
       "\n",
       "};\n",
       "\n",
       "mpl.figure.prototype.handle_close = function(fig, msg) {\n",
       "    var width = fig.canvas.width/mpl.ratio\n",
       "    fig.root.unbind('remove')\n",
       "\n",
       "    // Update the output cell to use the data from the current canvas.\n",
       "    fig.push_to_output();\n",
       "    var dataURL = fig.canvas.toDataURL();\n",
       "    // Re-enable the keyboard manager in IPython - without this line, in FF,\n",
       "    // the notebook keyboard shortcuts fail.\n",
       "    IPython.keyboard_manager.enable()\n",
       "    $(fig.parent_element).html('<img src=\"' + dataURL + '\" width=\"' + width + '\">');\n",
       "    fig.close_ws(fig, msg);\n",
       "}\n",
       "\n",
       "mpl.figure.prototype.close_ws = function(fig, msg){\n",
       "    fig.send_message('closing', msg);\n",
       "    // fig.ws.close()\n",
       "}\n",
       "\n",
       "mpl.figure.prototype.push_to_output = function(remove_interactive) {\n",
       "    // Turn the data on the canvas into data in the output cell.\n",
       "    var width = this.canvas.width/mpl.ratio\n",
       "    var dataURL = this.canvas.toDataURL();\n",
       "    this.cell_info[1]['text/html'] = '<img src=\"' + dataURL + '\" width=\"' + width + '\">';\n",
       "}\n",
       "\n",
       "mpl.figure.prototype.updated_canvas_event = function() {\n",
       "    // Tell IPython that the notebook contents must change.\n",
       "    IPython.notebook.set_dirty(true);\n",
       "    this.send_message(\"ack\", {});\n",
       "    var fig = this;\n",
       "    // Wait a second, then push the new image to the DOM so\n",
       "    // that it is saved nicely (might be nice to debounce this).\n",
       "    setTimeout(function () { fig.push_to_output() }, 1000);\n",
       "}\n",
       "\n",
       "mpl.figure.prototype._init_toolbar = function() {\n",
       "    var fig = this;\n",
       "\n",
       "    var nav_element = $('<div/>');\n",
       "    nav_element.attr('style', 'width: 100%');\n",
       "    this.root.append(nav_element);\n",
       "\n",
       "    // Define a callback function for later on.\n",
       "    function toolbar_event(event) {\n",
       "        return fig.toolbar_button_onclick(event['data']);\n",
       "    }\n",
       "    function toolbar_mouse_event(event) {\n",
       "        return fig.toolbar_button_onmouseover(event['data']);\n",
       "    }\n",
       "\n",
       "    for(var toolbar_ind in mpl.toolbar_items){\n",
       "        var name = mpl.toolbar_items[toolbar_ind][0];\n",
       "        var tooltip = mpl.toolbar_items[toolbar_ind][1];\n",
       "        var image = mpl.toolbar_items[toolbar_ind][2];\n",
       "        var method_name = mpl.toolbar_items[toolbar_ind][3];\n",
       "\n",
       "        if (!name) { continue; };\n",
       "\n",
       "        var button = $('<button class=\"btn btn-default\" href=\"#\" title=\"' + name + '\"><i class=\"fa ' + image + ' fa-lg\"></i></button>');\n",
       "        button.click(method_name, toolbar_event);\n",
       "        button.mouseover(tooltip, toolbar_mouse_event);\n",
       "        nav_element.append(button);\n",
       "    }\n",
       "\n",
       "    // Add the status bar.\n",
       "    var status_bar = $('<span class=\"mpl-message\" style=\"text-align:right; float: right;\"/>');\n",
       "    nav_element.append(status_bar);\n",
       "    this.message = status_bar[0];\n",
       "\n",
       "    // Add the close button to the window.\n",
       "    var buttongrp = $('<div class=\"btn-group inline pull-right\"></div>');\n",
       "    var button = $('<button class=\"btn btn-mini btn-primary\" href=\"#\" title=\"Stop Interaction\"><i class=\"fa fa-power-off icon-remove icon-large\"></i></button>');\n",
       "    button.click(function (evt) { fig.handle_close(fig, {}); } );\n",
       "    button.mouseover('Stop Interaction', toolbar_mouse_event);\n",
       "    buttongrp.append(button);\n",
       "    var titlebar = this.root.find($('.ui-dialog-titlebar'));\n",
       "    titlebar.prepend(buttongrp);\n",
       "}\n",
       "\n",
       "mpl.figure.prototype._root_extra_style = function(el){\n",
       "    var fig = this\n",
       "    el.on(\"remove\", function(){\n",
       "\tfig.close_ws(fig, {});\n",
       "    });\n",
       "}\n",
       "\n",
       "mpl.figure.prototype._canvas_extra_style = function(el){\n",
       "    // this is important to make the div 'focusable\n",
       "    el.attr('tabindex', 0)\n",
       "    // reach out to IPython and tell the keyboard manager to turn it's self\n",
       "    // off when our div gets focus\n",
       "\n",
       "    // location in version 3\n",
       "    if (IPython.notebook.keyboard_manager) {\n",
       "        IPython.notebook.keyboard_manager.register_events(el);\n",
       "    }\n",
       "    else {\n",
       "        // location in version 2\n",
       "        IPython.keyboard_manager.register_events(el);\n",
       "    }\n",
       "\n",
       "}\n",
       "\n",
       "mpl.figure.prototype._key_event_extra = function(event, name) {\n",
       "    var manager = IPython.notebook.keyboard_manager;\n",
       "    if (!manager)\n",
       "        manager = IPython.keyboard_manager;\n",
       "\n",
       "    // Check for shift+enter\n",
       "    if (event.shiftKey && event.which == 13) {\n",
       "        this.canvas_div.blur();\n",
       "        // select the cell after this one\n",
       "        var index = IPython.notebook.find_cell_index(this.cell_info[0]);\n",
       "        IPython.notebook.select(index + 1);\n",
       "    }\n",
       "}\n",
       "\n",
       "mpl.figure.prototype.handle_save = function(fig, msg) {\n",
       "    fig.ondownload(fig, null);\n",
       "}\n",
       "\n",
       "\n",
       "mpl.find_output_cell = function(html_output) {\n",
       "    // Return the cell and output element which can be found *uniquely* in the notebook.\n",
       "    // Note - this is a bit hacky, but it is done because the \"notebook_saving.Notebook\"\n",
       "    // IPython event is triggered only after the cells have been serialised, which for\n",
       "    // our purposes (turning an active figure into a static one), is too late.\n",
       "    var cells = IPython.notebook.get_cells();\n",
       "    var ncells = cells.length;\n",
       "    for (var i=0; i<ncells; i++) {\n",
       "        var cell = cells[i];\n",
       "        if (cell.cell_type === 'code'){\n",
       "            for (var j=0; j<cell.output_area.outputs.length; j++) {\n",
       "                var data = cell.output_area.outputs[j];\n",
       "                if (data.data) {\n",
       "                    // IPython >= 3 moved mimebundle to data attribute of output\n",
       "                    data = data.data;\n",
       "                }\n",
       "                if (data['text/html'] == html_output) {\n",
       "                    return [cell, data, j];\n",
       "                }\n",
       "            }\n",
       "        }\n",
       "    }\n",
       "}\n",
       "\n",
       "// Register the function which deals with the matplotlib target/channel.\n",
       "// The kernel may be null if the page has been refreshed.\n",
       "if (IPython.notebook.kernel != null) {\n",
       "    IPython.notebook.kernel.comm_manager.register_target('matplotlib', mpl.mpl_figure_comm);\n",
       "}\n"
      ],
      "text/plain": [
       "<IPython.core.display.Javascript object>"
      ]
     },
     "metadata": {},
     "output_type": "display_data"
    },
    {
     "data": {
      "text/html": [
       "<img src=\"data:image/png;base64,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\" width=\"640\">"
      ],
      "text/plain": [
       "<IPython.core.display.HTML object>"
      ]
     },
     "metadata": {},
     "output_type": "display_data"
    }
   ],
   "source": [
    "# Visualize the generated data\n",
    "fig = plt.figure()\n",
    "ax = fig.add_subplot(111, projection='3d')\n",
    "\n",
    "ax.scatter(xs=x_p2[:,0][y_p2 == 0], ys=x_p2[:,1][y_p2 == 0], zs=x_p2[:,2][y_p2 == 0],  \n",
    "           marker='s', color='red', alpha=0.5, label=\"class 0\")\n",
    "ax.scatter(xs=x_p2[:,0][y_p2 == 1], ys=x_p2[:,1][y_p2 == 1], zs=x_p2[:,2][y_p2 == 1],  \n",
    "           marker='o', color='blue', alpha=0.5, label=\"class 1\")\n",
    "ax.scatter(xs=x_p2[:,0][y_p2 == 2], ys=x_p2[:,1][y_p2 == 2], zs=x_p2[:,2][y_p2 == 2],  \n",
    "           marker='^', color='green', alpha=0.5, label=\"class 2\")\n",
    "ax.set_xlabel('$x_1$')\n",
    "ax.set_ylabel('$x_2$')\n",
    "ax.set_zlabel('$x_3$')\n",
    "ax.legend()\n",
    "plt.show()"
   ]
  },
  {
   "cell_type": "code",
   "execution_count": 10,
   "metadata": {},
   "outputs": [],
   "source": [
    "# Split the data according to different classes. \n",
    "# note that the classes are {0,1,2}, not {1,2,3}\n",
    "x_p2_c0 = x_p2[:,:][y_p2 == 0]\n",
    "x_p2_c1 = x_p2[:,:][y_p2 == 1]\n",
    "x_p2_c2 = x_p2[:,:][y_p2 == 2]"
   ]
  },
  {
   "cell_type": "code",
   "execution_count": 11,
   "metadata": {},
   "outputs": [],
   "source": [
    "tmp = np.hstack((x_p2,y_p2.reshape(150,1)))\n",
    "# tmp"
   ]
  },
  {
   "cell_type": "markdown",
   "metadata": {},
   "source": [
    "### Step 1: calculate the mean of the each class"
   ]
  },
  {
   "cell_type": "code",
   "execution_count": 137,
   "metadata": {},
   "outputs": [],
   "source": [
    "mu_c0 = np.mean(x_p2_c0,axis=0)\n",
    "mu_c1 = np.mean(x_p2_c1,axis=0)\n",
    "mu_c2 = np.mean(x_p2_c2,axis=0)\n",
    "mu = np.mean(x_p2, axis=0)\n",
    "n_0 = x_p2_c0.shape[0]\n",
    "n_1 = x_p2_c1.shape[0]\n",
    "n_2 = x_p2_c2.shape[0]"
   ]
  },
  {
   "cell_type": "code",
   "execution_count": 138,
   "metadata": {},
   "outputs": [
    {
     "name": "stdout",
     "output_type": "stream",
     "text": [
      "Mean of class 0 is [ 2.058  0.184 -1.759] \n",
      "Mean of class 1 is [1.86  0.3   1.868] \n",
      "Mean of class 2 is [-1.858 -0.172  1.844] \n",
      "Mean of all data [0.687 0.104 0.651]\n"
     ]
    }
   ],
   "source": [
    "print(\"Mean of class 0 is\",mu_c0, \"\\nMean of class 1 is\", mu_c1, \"\\nMean of class 2 is\", mu_c2, \"\\nMean of all data\", mu)"
   ]
  },
  {
   "cell_type": "code",
   "execution_count": 139,
   "metadata": {},
   "outputs": [
    {
     "name": "stdout",
     "output_type": "stream",
     "text": [
      "50 50 50\n"
     ]
    }
   ],
   "source": [
    "print(n_0,n_1,n_2)"
   ]
  },
  {
   "cell_type": "markdown",
   "metadata": {},
   "source": [
    "### Step 2: Calculate the Between-Class Variance matrix $S_B$."
   ]
  },
  {
   "cell_type": "markdown",
   "metadata": {},
   "source": [
    "Recall that the formula to calculate $S_B$ is:\n",
    "$$S_{B} = \\sum_{j=0}^{k-1}n_j(\\vec{\\mu_j}-\\vec{\\mu})(\\vec{\\mu_j}-\\vec{\\mu})^T$$"
   ]
  },
  {
   "cell_type": "code",
   "execution_count": 140,
   "metadata": {},
   "outputs": [],
   "source": [
    "S_B_0 = (mu_c0 - mu).reshape((3,1)) @ (mu_c0 - mu).reshape((1,3))\n",
    "S_B_1 = (mu_c1 - mu).reshape((3,1)) @ (mu_c1 - mu).reshape((1,3))\n",
    "S_B_2 = (mu_c2 - mu).reshape((3,1)) @ (mu_c2 - mu).reshape((1,3))\n",
    "S_B = n_0 * S_B_0 + n_1 * S_B_1 + n_2 * S_B_2"
   ]
  },
  {
   "cell_type": "code",
   "execution_count": 141,
   "metadata": {},
   "outputs": [
    {
     "data": {
      "text/plain": [
       "array([[ 1.881,  0.11 , -3.305],\n",
       "       [ 0.11 ,  0.006, -0.193],\n",
       "       [-3.305, -0.193,  5.809]])"
      ]
     },
     "execution_count": 141,
     "metadata": {},
     "output_type": "execute_result"
    }
   ],
   "source": [
    "S_B_0"
   ]
  },
  {
   "cell_type": "code",
   "execution_count": 142,
   "metadata": {},
   "outputs": [
    {
     "data": {
      "text/plain": [
       "array([[ 1.881,  0.11 , -3.305],\n",
       "       [ 0.11 ,  0.006, -0.193],\n",
       "       [-3.305, -0.193,  5.809]])"
      ]
     },
     "execution_count": 142,
     "metadata": {},
     "output_type": "execute_result"
    }
   ],
   "source": [
    "(mu_c0-mu).reshape(3,1)@(mu_c0-mu).reshape(3,1).T"
   ]
  },
  {
   "cell_type": "markdown",
   "metadata": {},
   "source": [
    "### Step 3: Calculate the Within-Class Variance matrix $S_W$"
   ]
  },
  {
   "cell_type": "markdown",
   "metadata": {},
   "source": [
    "Recall that the formula to calculate $S_W$ is:\n",
    "$$S_{W_j} = \\sum_{\\vec{x}^{(i)} \\in C_j}(\\vec{x}^{(i)}-\\vec{\\mu_j})(\\vec{x}^{(i)}-\\vec{\\mu_j})^T,\\ j=0,1,2$$\n",
    "$$S_W = \\sum_{j = 0}^{2}S_{W_j}$$"
   ]
  },
  {
   "cell_type": "code",
   "execution_count": 143,
   "metadata": {},
   "outputs": [
    {
     "data": {
      "text/plain": [
       "array([[56.4  , -1.461, 28.102],\n",
       "       [-1.461, 44.18 , -0.449],\n",
       "       [28.102, -0.449, 59.364]])"
      ]
     },
     "execution_count": 143,
     "metadata": {},
     "output_type": "execute_result"
    }
   ],
   "source": [
    "(x_p2_c1 - mu_c1).T @ (x_p2_c1 - mu_c1)"
   ]
  },
  {
   "cell_type": "code",
   "execution_count": 144,
   "metadata": {},
   "outputs": [],
   "source": [
    "# Calculate \n",
    "S_W_0 = (x_p2_c0 - mu_c0).T@(x_p2_c0 - mu_c0)\n",
    "S_W_1 = (x_p2_c1 - mu_c1).T@(x_p2_c1 - mu_c1)\n",
    "S_W_2 = (x_p2_c2 - mu_c2).T@(x_p2_c2 - mu_c2)\n",
    "S_W = S_W_0 + S_W_1 + S_W_2"
   ]
  },
  {
   "cell_type": "code",
   "execution_count": 145,
   "metadata": {},
   "outputs": [
    {
     "data": {
      "text/plain": [
       "array([[ 15.865,  -0.187, -15.45 ],\n",
       "       [ -0.187,  37.596,  -2.348],\n",
       "       [-15.45 ,  -2.348,  18.132]])"
      ]
     },
     "execution_count": 145,
     "metadata": {},
     "output_type": "execute_result"
    }
   ],
   "source": [
    "S_w_0_1 = np.zeros((3,3))\n",
    "for i in range(50):\n",
    "    m = (x_p2_c0[i,:] - mu_c0).reshape((3,1))\n",
    "    S_w_0_1 += m@m.T\n",
    "S_w_0_1 \n",
    "\n",
    "S_w_1_1 = np.zeros((3,3))\n",
    "for i in range(50):\n",
    "    m = (x_p2_c1[i,:] - mu_c1).reshape((3,1))\n",
    "    S_w_1_1 += m@m.T\n",
    "S_w_1_1  \n",
    "\n",
    "S_w_2_1 = np.zeros((3,3))\n",
    "for i in range(50):\n",
    "    m = (x_p2_c2[i,:] - mu_c2).reshape((3,1))\n",
    "    S_w_2_1 += m@m.T\n",
    "S_w_2_1 "
   ]
  },
  {
   "cell_type": "code",
   "execution_count": 146,
   "metadata": {},
   "outputs": [
    {
     "data": {
      "text/plain": [
       "array([[11.089, -0.048, -8.107],\n",
       "       [-0.048, 60.373, -7.092],\n",
       "       [-8.107, -7.092, 71.54 ]])"
      ]
     },
     "execution_count": 146,
     "metadata": {},
     "output_type": "execute_result"
    }
   ],
   "source": [
    "S_w_0_1"
   ]
  },
  {
   "cell_type": "code",
   "execution_count": 147,
   "metadata": {},
   "outputs": [
    {
     "data": {
      "text/plain": [
       "array([[11.089, -0.048, -8.107],\n",
       "       [-0.048, 60.373, -7.092],\n",
       "       [-8.107, -7.092, 71.54 ]])"
      ]
     },
     "execution_count": 147,
     "metadata": {},
     "output_type": "execute_result"
    }
   ],
   "source": [
    "S_W_0"
   ]
  },
  {
   "cell_type": "code",
   "execution_count": 148,
   "metadata": {},
   "outputs": [
    {
     "data": {
      "text/plain": [
       "array([[ 83.355,  -1.695,   4.545],\n",
       "       [ -1.695, 142.149,  -9.89 ],\n",
       "       [  4.545,  -9.89 , 149.036]])"
      ]
     },
     "execution_count": 148,
     "metadata": {},
     "output_type": "execute_result"
    }
   ],
   "source": [
    "S_W"
   ]
  },
  {
   "cell_type": "markdown",
   "metadata": {},
   "source": [
    "### Step 4:  Find the eigenvectors and eigenvalues of matrix $S_W^{-1}S_B$"
   ]
  },
  {
   "cell_type": "code",
   "execution_count": 149,
   "metadata": {},
   "outputs": [],
   "source": [
    "W = np.linalg.inv(S_W)@S_B\n",
    "eig_vals, eig_vecs = np.linalg.eig(W)"
   ]
  },
  {
   "cell_type": "code",
   "execution_count": 150,
   "metadata": {},
   "outputs": [
    {
     "data": {
      "text/plain": [
       "array([[ 0.92 ,  0.573, -0.126],\n",
       "       [ 0.036,  0.142,  0.991],\n",
       "       [-0.391,  0.807, -0.039]])"
      ]
     },
     "execution_count": 150,
     "metadata": {},
     "output_type": "execute_result"
    }
   ],
   "source": [
    "eig_vecs"
   ]
  },
  {
   "cell_type": "code",
   "execution_count": 151,
   "metadata": {},
   "outputs": [
    {
     "data": {
      "text/plain": [
       "array([7.288, 1.719, 0.   ])"
      ]
     },
     "execution_count": 151,
     "metadata": {},
     "output_type": "execute_result"
    }
   ],
   "source": [
    "eig_vals"
   ]
  },
  {
   "cell_type": "code",
   "execution_count": 152,
   "metadata": {},
   "outputs": [
    {
     "name": "stdout",
     "output_type": "stream",
     "text": [
      "PASS\n"
     ]
    }
   ],
   "source": [
    "for i in range(len(eig_vals)):\n",
    "    np.testing.assert_array_almost_equal(W@eig_vecs[:,i].reshape((3,1)), \n",
    "                                         (eig_vals[i] * eig_vecs[:,i]).reshape((3,1)), decimal=6)\n",
    "    \n",
    "print(\"PASS\")"
   ]
  },
  {
   "cell_type": "markdown",
   "metadata": {},
   "source": [
    "### Step 5: Sort the eigenvectors by decreasing eigenvalues, and select top $r$ eigenvectors to construct a $r$-dimensional subspace"
   ]
  },
  {
   "cell_type": "code",
   "execution_count": 153,
   "metadata": {},
   "outputs": [],
   "source": [
    "eig_pairs = [(np.abs(eig_vals[i]), eig_vecs[:,i]) for i in range(len(eig_vals))]\n",
    "eig_pairs = sorted(eig_pairs, key=lambda k:k[0], reverse=True)"
   ]
  },
  {
   "cell_type": "code",
   "execution_count": 294,
   "metadata": {},
   "outputs": [
    {
     "name": "stdout",
     "output_type": "stream",
     "text": [
      "Eigenvalue: 7.288 ; the corresponding eigenvector: [ 0.92   0.036 -0.391] \n",
      "\n",
      "Eigenvalue: 1.719 ; the corresponding eigenvector: [0.573 0.142 0.807] \n",
      "\n",
      "Eigenvalue: 0.0 ; the corresponding eigenvector: [-0.126  0.991 -0.039] \n",
      "\n"
     ]
    }
   ],
   "source": [
    "for i in range(len(eig_pairs)):\n",
    "    print(\"Eigenvalue:\",eig_pairs[i][0].round(3), \"; the corresponding eigenvector:\", eig_pairs[i][1], \"\\n\")"
   ]
  },
  {
   "cell_type": "markdown",
   "metadata": {},
   "source": [
    "The best 1-dimensional subspace is [0.923,  0.055, -0.382], and the best 2-dimensional subspace is span({[0.923,  0.055, -0.382], [0.554, 0.173, 0.814]})"
   ]
  },
  {
   "cell_type": "markdown",
   "metadata": {},
   "source": [
    "### Step 6: Transform the data points onto the new subspace."
   ]
  },
  {
   "cell_type": "code",
   "execution_count": 281,
   "metadata": {},
   "outputs": [],
   "source": [
    "%matplotlib inline\n",
    "def visualize_1D_linear_discriminant(ld1, y, n_class, color=[\"red\", \"blue\", \"green\"], marker=[\"s\",\"o\",\"^\"]):\n",
    "    for i in range(n_class):\n",
    "        plt.scatter(ld1[y == i], np.zeros_like(ld1[y == i]), marker=marker[i], color=color[i], alpha=0.5, label=\"class {0}\".format(i))\n",
    "        mean = np.mean(ld1[y == i])\n",
    "        std = np.std(ld1[y == i])\n",
    "        a = np.linspace(mean - 3*std, mean + 3*std, 100)\n",
    "        plt.plot(a, stats.norm.pdf(a, mean, std), color = color[i])\n",
    "        plt.scatter(mean, 0, color=\"black\", marker=marker[i], s=90, label=\"m_{0}\".format(i))\n",
    "#     plt.xlim((-6,6))\n",
    "    plt.legend()\n",
    "    plt.show()\n",
    "    plt.close()\n",
    "    \n",
    "def visualize_2D_linear_discriminants(ld1, y, n_class, color=[\"red\", \"blue\", \"green\"], marker=[\"s\",\"o\",\"^\"]):\n",
    "    for i in range(n_class):\n",
    "        plt.scatter(ld1[:,0][y == i], ld1[:,1][y == i], marker=marker[i], color=color[i], alpha=0.5, label=\"class {0}\".format(i))\n",
    "        mean = np.mean(ld1[y == i], axis = 0)\n",
    "#         std = np.std(ld1[y == i])\n",
    "#         a = np.linspace(mean - 3*std, mean + 3*std, 100)\n",
    "#         plt.plot(a, stats.norm.pdf(a, mean, std), color = color[i])\n",
    "        plt.scatter(mean[0], mean[1], color=\"black\", marker=marker[i], s=70, label=\"m_{0}\".format(i))\n",
    "    mean = np.mean(ld1, axis = 0)\n",
    "    plt.scatter(mean[0], mean[1], color=\"black\", marker=\"x\", s=70, label=\"m\")\n",
    "#     plt.xlim((-6,6))\n",
    "#     plt.ylim((-6,6))\n",
    "    plt.legend()\n",
    "    plt.show()\n",
    "    plt.close()"
   ]
  },
  {
   "cell_type": "markdown",
   "metadata": {},
   "source": [
    "### 1 dimensional:"
   ]
  },
  {
   "cell_type": "markdown",
   "metadata": {},
   "source": [
    "#### Project on the first eigenvector"
   ]
  },
  {
   "cell_type": "code",
   "execution_count": 282,
   "metadata": {},
   "outputs": [
    {
     "data": {
      "image/png": "[encoded data removed]",
      "text/plain": [
       "<Figure size 432x288 with 1 Axes>"
      ]
     },
     "metadata": {
      "needs_background": "light"
     },
     "output_type": "display_data"
    }
   ],
   "source": [
    "w_best = eig_pairs[0][1].reshape((3,1))\n",
    "x_p2_best_1d = x_p2@w_best\n",
    "visualize_1D_linear_discriminant(x_p2_best_1d, y_p2,3)"
   ]
  },
  {
   "cell_type": "markdown",
   "metadata": {},
   "source": [
    "#### Project on the second eigenvector"
   ]
  },
  {
   "cell_type": "code",
   "execution_count": 283,
   "metadata": {},
   "outputs": [
    {
     "data": {
      "image/png": "[encoded data removed]",
      "text/plain": [
       "<Figure size 432x288 with 1 Axes>"
      ]
     },
     "metadata": {
      "needs_background": "light"
     },
     "output_type": "display_data"
    }
   ],
   "source": [
    "w_second = eig_pairs[1][1].reshape((3,1))\n",
    "x_p2_second_1d = x_p2@w_second\n",
    "x_p2_second_1d\n",
    "visualize_1D_linear_discriminant(x_p2_second_1d, y_p2,3)"
   ]
  },
  {
   "cell_type": "markdown",
   "metadata": {},
   "source": [
    "#### Project on a arbitrary eigenvector"
   ]
  },
  {
   "cell_type": "code",
   "execution_count": 284,
   "metadata": {},
   "outputs": [
    {
     "data": {
      "image/png": "[encoded data removed]",
      "text/plain": [
       "<Figure size 432x288 with 1 Axes>"
      ]
     },
     "metadata": {
      "needs_background": "light"
     },
     "output_type": "display_data"
    }
   ],
   "source": [
    "# An arbitrary vector w_arbi. You can change this vector and explore. \n",
    "# ** Cautious: the scale of the x-axis may change **\n",
    "w_arbi = np.array([[0],[1],[1]])\n",
    "x_p2_arbi_1d = x_p2@w_arbi\n",
    "visualize_1D_linear_discriminant(x_p2_arbi_1d, y_p2,3)"
   ]
  },
  {
   "cell_type": "markdown",
   "metadata": {},
   "source": [
    "### 2 dimensional:"
   ]
  },
  {
   "cell_type": "markdown",
   "metadata": {},
   "source": [
    "#### Project on the span of first two eigenvectors"
   ]
  },
  {
   "cell_type": "code",
   "execution_count": 285,
   "metadata": {},
   "outputs": [
    {
     "data": {
      "image/png": "[encoded data removed]",
      "text/plain": [
       "<Figure size 432x288 with 1 Axes>"
      ]
     },
     "metadata": {
      "needs_background": "light"
     },
     "output_type": "display_data"
    }
   ],
   "source": [
    "W_best_2d = np.hstack((eig_pairs[0][1].reshape((3,1)), eig_pairs[1][1].reshape((3,1))))\n",
    "x_p2_best_2d = x_p2@W_best_2d\n",
    "visualize_2D_linear_discriminants(x_p2_best_2d, y_p2, 3)"
   ]
  },
  {
   "cell_type": "markdown",
   "metadata": {},
   "source": [
    "#### Project on the span of two arbitrary linearly independent vectors"
   ]
  },
  {
   "cell_type": "code",
   "execution_count": 286,
   "metadata": {},
   "outputs": [
    {
     "data": {
      "image/png": "[encoded data removed]",
      "text/plain": [
       "<Figure size 432x288 with 1 Axes>"
      ]
     },
     "metadata": {
      "needs_background": "light"
     },
     "output_type": "display_data"
    }
   ],
   "source": [
    "# An arbitrary matrix W_arbi_2d. You can change this vector and explore. \n",
    "# ** Cautious: the scale of the x-axis and y-axis may change **\n",
    "W_arbi_2d = np.array([[1,1],[0,1],[0,1]])\n",
    "x_p2_arbi_2d = x_p2@W_arbi_2d\n",
    "visualize_2D_linear_discriminants(x_p2_arbi_2d, y_p2, 3)"
   ]
  },
  {
   "cell_type": "markdown",
   "metadata": {},
   "source": [
    "## Activity 3 "
   ]
  },
  {
   "cell_type": "markdown",
   "metadata": {},
   "source": [
    "### Set Up"
   ]
  },
  {
   "cell_type": "code",
   "execution_count": 299,
   "metadata": {},
   "outputs": [
    {
     "data": {
      "text/plain": [
       "((150, 4), (150,))"
      ]
     },
     "execution_count": 299,
     "metadata": {},
     "output_type": "execute_result"
    }
   ],
   "source": [
    "from sklearn import datasets\n",
    "iris = datasets.load_iris()\n",
    "\n",
    "X = iris.data\n",
    "y = iris.target\n",
    "x_columns = ['sepal_length', 'sepal_width', 'petal_length', 'petal_width']\n",
    "klass = iris.target_names\n",
    "X.shape, y.shape"
   ]
  },
  {
   "cell_type": "code",
   "execution_count": 300,
   "metadata": {},
   "outputs": [
    {
     "name": "stdout",
     "output_type": "stream",
     "text": [
      "(112, 4)\n"
     ]
    }
   ],
   "source": [
    "label_dict = {0: 'Setosa', 1: 'Versicolor', 2:'Virginica'}\n",
    "\n",
    "xtrain, xtest, ytrain, ytest = train_test_split(X, y, test_size=0.25, random_state=1)\n",
    "print(xtrain.shape)\n",
    "\n",
    "xtrain_normalized = normalize(xtrain, norm='l2', axis=0)\n",
    "xtest_normalized = normalize(xtest, norm='l2', axis=0)"
   ]
  },
  {
   "cell_type": "code",
   "execution_count": 343,
   "metadata": {},
   "outputs": [],
   "source": [
    "%matplotlib inline\n",
    "def plot2d(X, y, xlab='PC1', ylab='PC2', title='PCA: first 2 principal components'):\n",
    "    ax = plt.subplot(111)\n",
    "    for label,marker,color in zip(\n",
    "        range(0,3),('^', 's', 'o'),('blue', 'red', 'green')):\n",
    "\n",
    "        plt.scatter(x=X[:,0][y == label],\n",
    "                    y=X[:,1][y == label],\n",
    "                    marker=marker,\n",
    "                    color=color,\n",
    "                    alpha=0.5,\n",
    "                    label=label_dict[label] )\n",
    "        mean = np.mean(X[:,:][y == label], axis = 0)\n",
    "        plt.scatter(x=mean[0],y=mean[1],\n",
    "                    marker=marker,\n",
    "                    color=\"black\",\n",
    "                    s=80,\n",
    "                    alpha=1)\n",
    "\n",
    "    plt.xlabel(xlab)\n",
    "    plt.ylabel(ylab)\n",
    "    leg = plt.legend(loc=0, fancybox=True)\n",
    "    leg.get_frame().set_alpha(0.5)\n",
    "    plt.title(title)\n",
    "\n",
    "    # hide axis ticks\n",
    "    plt.tick_params(axis=\"both\", which=\"both\", bottom=\"off\", top=\"off\",  \n",
    "            labelbottom=\"on\", left=\"off\", right=\"off\", labelleft=\"on\")\n",
    "\n",
    "    # remove axis spines\n",
    "    ax.spines[\"top\"].set_visible(False)  \n",
    "    ax.spines[\"right\"].set_visible(False)\n",
    "    ax.spines[\"bottom\"].set_visible(False)\n",
    "    ax.spines[\"left\"].set_visible(False)    \n",
    "\n",
    "    plt.tight_layout\n",
    "    plt.grid()"
   ]
  },
  {
   "cell_type": "code",
   "execution_count": 305,
   "metadata": {},
   "outputs": [],
   "source": [
    "def evaluate_model(model, xtrain, ytrain, xtest, ytest, model_name):\n",
    "    pred_train = model.predict(xtrain)\n",
    "    err_train = np.mean(pred_train != ytrain)\n",
    "    print(\"The error rate for training set using {:} (r=2) is {:.3f}%\".format(model_name, err_train*100))\n",
    "    \n",
    "    pred_test = model.predict(xtest)\n",
    "    err_test = np.mean(pred_test != ytest)\n",
    "    print(\"The error rate for test set using {:} (r=2) is {:.3f}%\".format(model_name, err_test*100))"
   ]
  },
  {
   "cell_type": "markdown",
   "metadata": {},
   "source": [
    "### Method 1: Two Most Significant Features"
   ]
  },
  {
   "cell_type": "markdown",
   "metadata": {},
   "source": [
    "We find the most significant features by directly do linear regression on the dataset, and pick the two features with greatest absolute weight. \n",
    "\n",
    "*Note* that this is not a good way of selecting features in the sense for classification tasks, since 1) the selected features are important for regression but ignores the labels; 2) the select features are original features, whereas PCA and LDA are able to combine different features to form new features; and 3) the select features may be correlated, where as PCA and LDA provides orthogonal features.\n",
    "\n",
    "We just want to include this crude method to give you a sense of dimensionality reduction"
   ]
  },
  {
   "cell_type": "code",
   "execution_count": 306,
   "metadata": {},
   "outputs": [
    {
     "data": {
      "text/plain": [
       "array([-0.16 ,  0.051,  0.329,  0.463])"
      ]
     },
     "execution_count": 306,
     "metadata": {},
     "output_type": "execute_result"
    }
   ],
   "source": [
    "w = np.linalg.inv(xtrain.T@xtrain)@xtrain.T@ytrain\n",
    "w"
   ]
  },
  {
   "cell_type": "code",
   "execution_count": 307,
   "metadata": {},
   "outputs": [
    {
     "name": "stdout",
     "output_type": "stream",
     "text": [
      "(112, 2)\n"
     ]
    }
   ],
   "source": [
    "xtrain_truncated = xtrain[:, 2:]\n",
    "xtest_truncated = xtest[:, 2:]\n",
    "print(xtrain_truncated.shape)"
   ]
  },
  {
   "cell_type": "code",
   "execution_count": 342,
   "metadata": {},
   "outputs": [
    {
     "name": "stdout",
     "output_type": "stream",
     "text": [
      "(37, 2)\n",
      "(34, 2)\n",
      "(41, 2)\n"
     ]
    },
    {
     "data": {
      "image/png": "[encoded data removed]",
      "text/plain": [
       "<Figure size 432x288 with 1 Axes>"
      ]
     },
     "metadata": {
      "needs_background": "light"
     },
     "output_type": "display_data"
    }
   ],
   "source": [
    "plot2d(xtrain_truncated, ytrain, x_columns[2], x_columns[3], 'Truncated Dataset with 2 features on training set')"
   ]
  },
  {
   "cell_type": "code",
   "execution_count": 344,
   "metadata": {},
   "outputs": [
    {
     "data": {
      "image/png": "[encoded data removed]",
      "text/plain": [
       "<Figure size 432x288 with 1 Axes>"
      ]
     },
     "metadata": {
      "needs_background": "light"
     },
     "output_type": "display_data"
    }
   ],
   "source": [
    "plot2d(xtest_truncated, ytest, x_columns[2], x_columns[3], 'Truncated Dataset with 2 features on test set')"
   ]
  },
  {
   "cell_type": "code",
   "execution_count": 315,
   "metadata": {},
   "outputs": [
    {
     "name": "stdout",
     "output_type": "stream",
     "text": [
      "The error rate for training set using Truncated X (r=2) is 20.536%\n",
      "The error rate for test set using Truncated X (r=2) is 31.579%\n"
     ]
    }
   ],
   "source": [
    "lr_truncated = LogisticRegression(solver='liblinear', multi_class='auto')\n",
    "lr_truncated.fit(xtrain_truncated, ytrain)\n",
    "evaluate_model(lr_truncated, xtrain_truncated, ytrain, xtest_truncated, ytest, \"Truncated X\")"
   ]
  },
  {
   "cell_type": "markdown",
   "metadata": {},
   "source": [
    "### Method 2: PCA"
   ]
  },
  {
   "cell_type": "markdown",
   "metadata": {},
   "source": [
    "We use PCA to form two most important features."
   ]
  },
  {
   "cell_type": "code",
   "execution_count": 316,
   "metadata": {},
   "outputs": [],
   "source": [
    "pca = PCA(n_components=2)\n",
    "xtrain_pca = pca.fit_transform(xtrain_normalized)\n",
    "xtest_pca = pca.transform(xtest_normalized)"
   ]
  },
  {
   "cell_type": "code",
   "execution_count": 345,
   "metadata": {},
   "outputs": [
    {
     "data": {
      "image/png": "[encoded data removed]",
      "text/plain": [
       "<Figure size 432x288 with 1 Axes>"
      ]
     },
     "metadata": {
      "needs_background": "light"
     },
     "output_type": "display_data"
    }
   ],
   "source": [
    "plot2d(xtrain_pca, ytrain, title = 'PCA: first 2 principal components on training set' )"
   ]
  },
  {
   "cell_type": "code",
   "execution_count": 346,
   "metadata": {},
   "outputs": [
    {
     "data": {
      "image/png": "[encoded data removed]",
      "text/plain": [
       "<Figure size 432x288 with 1 Axes>"
      ]
     },
     "metadata": {
      "needs_background": "light"
     },
     "output_type": "display_data"
    }
   ],
   "source": [
    "plot2d(xtest_pca, ytest, title = 'PCA: first 2 principal components on test set')"
   ]
  },
  {
   "cell_type": "code",
   "execution_count": 320,
   "metadata": {},
   "outputs": [
    {
     "name": "stdout",
     "output_type": "stream",
     "text": [
      "The error rate for training set using PCA (r=2) is 30.357%\n",
      "The error rate for test set using PCA (r=2) is 42.105%\n"
     ]
    }
   ],
   "source": [
    "lr_pca = LogisticRegression(solver='liblinear', multi_class='auto')\n",
    "lr_pca.fit(xtrain_pca, ytrain)\n",
    "evaluate_model(lr_pca, xtrain_pca, ytrain, xtest_pca, ytest, \"PCA\")"
   ]
  },
  {
   "cell_type": "markdown",
   "metadata": {},
   "source": [
    "### 3) LDA"
   ]
  },
  {
   "cell_type": "code",
   "execution_count": 349,
   "metadata": {},
   "outputs": [],
   "source": [
    " ### Using self defined predictor"
   ]
  },
  {
   "cell_type": "code",
   "execution_count": 19,
   "metadata": {},
   "outputs": [],
   "source": [
    "# lda = LinearDiscriminantAnalysis(n_components=2)\n",
    "# xtrain_lda_fit = lda.fit(xtrain_normalized, ytrain.reshape(-1, ))\n",
    "# xtrain_lda_fit"
   ]
  },
  {
   "cell_type": "code",
   "execution_count": 18,
   "metadata": {},
   "outputs": [],
   "source": [
    "# fig, ax = plt.subplots(1, 1, figsize=(8, 2))\n",
    "# sns.heatmap(pd.DataFrame(xtrain_lda_fit.coef_,\n",
    "#                          columns=[i for i in range(1, 5)], \n",
    "#                          index=klass), \n",
    "#             ax=ax, cmap=sns.diverging_palette(240,10,as_cmap=True), annot=True)\n",
    "# plt.suptitle('LDA Feature Coefficients')\n",
    "# None"
   ]
  },
  {
   "cell_type": "code",
   "execution_count": 17,
   "metadata": {},
   "outputs": [],
   "source": [
    "# pred_train_lda = lda.predict(xtrain_normalized)\n",
    "# err_train_lda = np.mean(pred_train_lda != ytrain)\n",
    "# print(\"The error rate for training set using LDA (r=2) is {:.3f}%\".format(err_train_lda*100))\n",
    "# pred_test_lda = lda.predict(xtest_normalized)\n",
    "# err_test_lda = np.mean(pred_test_lda != ytest)\n",
    "# print(\"The error rate for test set using LDA (r=2) is {:.3f}%\".format(err_test_lda*100))\n",
    "# evaluate_model(xtrain_lda_fit, xtrain_normalized, ytrain, xtest_normalized, ytest, \"LDA\")"
   ]
  },
  {
   "cell_type": "code",
   "execution_count": 350,
   "metadata": {},
   "outputs": [],
   "source": [
    "### Using LR "
   ]
  },
  {
   "cell_type": "markdown",
   "metadata": {},
   "source": [
    "We use LDA to form two most important features."
   ]
  },
  {
   "cell_type": "code",
   "execution_count": 321,
   "metadata": {},
   "outputs": [],
   "source": [
    "lda2 = LinearDiscriminantAnalysis(n_components=2, store_covariance=True)\n",
    "xtrain_lda2 = lda2.fit_transform(xtrain_normalized, ytrain)\n",
    "xtest_lda2 = lda2.fit_transform(xtest_normalized, ytest)"
   ]
  },
  {
   "cell_type": "code",
   "execution_count": 347,
   "metadata": {},
   "outputs": [
    {
     "data": {
      "image/png": "[encoded data removed]",
      "text/plain": [
       "<Figure size 432x288 with 1 Axes>"
      ]
     },
     "metadata": {
      "needs_background": "light"
     },
     "output_type": "display_data"
    }
   ],
   "source": [
    "plot2d(xtrain_lda2, ytrain, title='LDA: first 2 linear discriminant on training set')"
   ]
  },
  {
   "cell_type": "code",
   "execution_count": 348,
   "metadata": {},
   "outputs": [
    {
     "data": {
      "image/png": "[encoded data removed]",
      "text/plain": [
       "<Figure size 432x288 with 1 Axes>"
      ]
     },
     "metadata": {
      "needs_background": "light"
     },
     "output_type": "display_data"
    }
   ],
   "source": [
    "plot2d(xtest_lda2, ytest, title='LDA: first 2 linear discriminant on test set')"
   ]
  },
  {
   "cell_type": "code",
   "execution_count": 326,
   "metadata": {},
   "outputs": [
    {
     "name": "stdout",
     "output_type": "stream",
     "text": [
      "The error rate for training set using LDA (r=2) is 4.464%\n",
      "The error rate for test set using LDA (r=2) is 13.158%\n"
     ]
    }
   ],
   "source": [
    "lr_lda = LogisticRegression(solver='liblinear', multi_class='auto')\n",
    "lr_lda.fit(xtrain_lda2, ytrain)\n",
    "evaluate_model(lr_lda, xtrain_lda2, ytrain, xtest_lda2, ytest, \"LDA\")"
   ]
  },
  {
   "cell_type": "markdown",
   "metadata": {},
   "source": [
    "## Reference\n",
    "- https://scikit-learn.org/stable/auto_examples/decomposition/plot_pca_vs_lda.html"
   ]
  }
 ],
 "metadata": {
  "kernelspec": {
   "display_name": "Python 3",
   "language": "python",
   "name": "python3"
  },
  "language_info": {
   "codemirror_mode": {
    "name": "ipython",
    "version": 3
   },
   "file_extension": ".py",
   "mimetype": "text/x-python",
   "name": "python",
   "nbconvert_exporter": "python",
   "pygments_lexer": "ipython3",
   "version": "3.7.6"
  }
 },
 "nbformat": 4,
 "nbformat_minor": 2
}
